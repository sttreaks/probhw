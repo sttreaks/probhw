{
 "cells": [
  {
   "cell_type": "markdown",
   "metadata": {},
   "source": [
    "# Домашня робота №2"
   ]
  },
  {
   "cell_type": "markdown",
   "metadata": {},
   "source": [
    "## 1 Пароль\n",
    "Напишіть програму (функцію) для генерування випадкового пароля з такими обмеженнями:\n",
    "- пароль складається з рівно $10$ символів\n",
    "- пароль містить хоча б одну маленьку латинську літеру [a-z]\n",
    "- пароль містить хоча б одну велику латинську літеру [A-Z]\n",
    "- пароль містить хоча б одну цифру [0-9]\n",
    "- пароль містить хоча б один спеціальний символ [~!@#$%^&*()-_+=\\/{}[].,?<>:;]"
   ]
  },
  {
   "cell_type": "code",
   "execution_count": 1,
   "metadata": {
    "collapsed": false
   },
   "outputs": [
    {
     "name": "stdout",
     "output_type": "stream",
     "text": [
      "5xH<78n_8A\n"
     ]
    }
   ],
   "source": [
    "import string\n",
    "import numpy as np\n",
    "\n",
    "buff = ['0123456789', string.ascii_lowercase, string.ascii_uppercase, '~!@#$%^&*()-_+=\\/{}[].,?<>:;']\n",
    "\n",
    "for i in range(len(buff)):\n",
    "    buff[i] = list(buff[i])\n",
    "\n",
    "s = ''\n",
    "for i in buff:\n",
    "    s += np.random.choice(i)\n",
    "    \n",
    "for _ in range(10 - len(s)):\n",
    "    c = np.random.choice(buff)\n",
    "    s += np.random.choice(c)\n",
    "    \n",
    "    \n",
    "print(s)\n",
    "    \n",
    "\n"
   ]
  },
  {
   "cell_type": "markdown",
   "metadata": {},
   "source": [
    "## 2 Герби в ряд\n",
    "Реалізуйте функцію для обчислення емпіричної та теоретичної імовірностей випадіння $k$ гербів (HEADS) підряд у серії з $n$ підкидань чесної монетки. Підрахуйте відповідні ймовірності для таких параметрів:\n",
    "- $k = 2, n = 10, 50, 100, 500, 1000, 5000, 10000$\n",
    "- $k = 3, n = 10, 50, 100, 500, 1000, 5000, 10000$\n",
    "\n",
    "**Зауваження.** Нехай $k = 2, n = 10$ та маємо таку послідовність результатів підкидання монети: $\\{ H, T, H, H, H, H, T, T, H, T \\}$. Тоді матимемо $3$ випадки випадіння двох гербів підряд та емпіричну ймовірність такої події $1/3$."
   ]
  },
  {
   "cell_type": "code",
   "execution_count": 2,
   "metadata": {
    "collapsed": true
   },
   "outputs": [],
   "source": [
    "from numpy.random import choice\n",
    "\n",
    "\n",
    "def count2(n: int, k: int) -> float:\n",
    "    res = choice(['H', 'T' ], n)\n",
    "    number = 0\n",
    "    for i in range(n-k+1):\n",
    "        tmp = res[i: i+k]\n",
    "        success = True\n",
    "        for char in tmp:\n",
    "            if char != 'H':\n",
    "                success = False\n",
    "                break\n",
    "        if success:\n",
    "            number += 1\n",
    "    return number / n\n",
    "\n",
    "\n",
    "if __name__ == '__main__':\n",
    "    nn = (10, 50, 100, 500, 1000, 5000, 10000)\n",
    "    kk = (2, 3)\n",
    "    for k in kk:\n",
    "        for n in nn:\n",
    "            print(f'k = {k}, n = {n}, probability = {count2(n, k)}')\n"
   ]
  },
  {
   "cell_type": "markdown",
   "metadata": {},
   "source": [
    "## 3 Найбільше число\n",
    "Реалізуйте функцію підрахунку точної (теоретичної) імовірності того, що максимальне число після $n$ кидків звичайного грального кубика дорівнює $x\\_max$, для таких параметрів:\n",
    "- $n = 3, x\\_max = 6$\n",
    "- $n = 2, x\\_max = 3$\n",
    "- $n = 3, x\\_max = 5$\n",
    "\n",
    "Тобто, якщо $X_i, i = 1, \\ldots, n$, - число на $i$-му кидку кубика, а $X = \\max\\limits_{1 \\leq i \\leq n} X_i$, то потрібно знайти ймовірність $\\textbf{P} \\left( X = x\\_max \\right)$.\n",
    "\n",
    "Підрахуйте також емпіричні ймовірності відповідних подій у випадку $10000$ симуляцій.\n",
    "\n",
    "**Зауваження.** Якщо введені параметри не мають сенсу, то повертати $0$.\n",
    "Тобто, якщо вводиться $x\\_max < 1$ або $x\\_max > 6$."
   ]
  },
  {
   "cell_type": "code",
   "execution_count": 3,
   "metadata": {
    "collapsed": true
   },
   "outputs": [],
   "source": [
    "def count3(n, x, test=10000):\n",
    "    assert 1 <= x <= 6, 'INVALID data'\n",
    "    number = 0\n",
    "    for _ in range(test):\n",
    "        if max(choice(range(1, 7), n)) == x:\n",
    "            number += 1\n",
    "    return number / test\n",
    "\n",
    "\n",
    "if __name__ == '__main__':\n",
    "    n = (3, 2, 3)\n",
    "    x_max = (6, 3, 5)\n",
    "    for i in range(3):\n",
    "        print(f'n = {n[i]}, x_max = {x_max[i]}, '\n",
    "              f'theoretical probability = {((x_max[i] - 1) ** n[i]) / 6 ** n[i]}, '\n",
    "              f' empirical probability = {count3(n[i], x_max[i], test=10000)} ')\n",
    "\n"
   ]
  },
  {
   "cell_type": "markdown",
   "metadata": {},
   "source": [
    "## 4 Сума чисел\n",
    "Реалізуйте функцію підрахунку точної (теоретичної) імовірності того, що сума чисел після $n$ кидків звичайного грального кубика дорівнює $s$, для таких параметрів:\n",
    "- $n = 3, s = 13$\n",
    "- $n = 2, s = 5$\n",
    "- $n = 3, s = 7$\n",
    "\n",
    "Тобто, якщо $X_i, i = 1, \\ldots, n$, - число на $i$-му кидку кубика, а $X = \\sum\\limits_{i = 1}^{n} X_i$, то потрібно знайти ймовірність $\\textbf{P} \\left( X = s \\right)$.\n",
    "\n",
    "Підрахуйте також емпіричні ймовірності відповідних подій у випадку $10000$ симуляцій.\n",
    "\n",
    "**Зауваження.** Якщо введені параметри не мають сенсу, то повертати $0$.\n",
    "Наприклад, якщо при $n = 3$ вводиться $s < 3$ або $s > 18$."
   ]
  },
  {
   "cell_type": "code",
   "execution_count": 4,
   "metadata": {
    "collapsed": true
   },
   "outputs": [],
   "source": [
    "def count4(n, s, test=10000):\n",
    "    assert n <= s <= 6 * n, 'INVALID data'\n",
    "    number = 0\n",
    "    for _ in range(test):\n",
    "        if sum(choice(range(1, 7), n)) == s:\n",
    "            number += 1\n",
    "    return number / test\n",
    "\n",
    "\n",
    "if __name__ == '__main__':\n",
    "    n = (3, 2, 3)\n",
    "    s = (13, 5, 7)\n",
    "    for i in range(3):\n",
    "        print(f'n = {n[i]}, s = {s[i]}, '\n",
    "              # f'theoretical probability = {((s[i] - 1) ** n[i]) / 6 ** n[i]}, '\n",
    "              f' empirical probability = {count4(n[i], s[i], test=10000)} ')\n"
   ]
  }
 ],
 "metadata": {
  "kernelspec": {
   "display_name": "Python 3",
   "language": "python",
   "name": "python3"
  },
  "language_info": {
   "codemirror_mode": {
    "name": "ipython",
    "version": 3
   },
   "file_extension": ".py",
   "mimetype": "text/x-python",
   "name": "python",
   "nbconvert_exporter": "python",
   "pygments_lexer": "ipython3",
   "version": "3.6.1"
  }
 },
 "nbformat": 4,
 "nbformat_minor": 0
}
