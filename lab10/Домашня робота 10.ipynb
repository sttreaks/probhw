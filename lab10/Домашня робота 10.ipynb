{
 "cells": [
  {
   "cell_type": "markdown",
   "metadata": {},
   "source": [
    "# Домашня робота №10"
   ]
  },
  {
   "cell_type": "markdown",
   "metadata": {},
   "source": [
    "# Закон великих чисел, метод Монте-Карло, центральна гранична теорема"
   ]
  },
  {
   "cell_type": "markdown",
   "metadata": {},
   "source": [
    "Деякі задачі взяті з підручника\n",
    "\n",
    "*Збірник задач з теорії ймовірностей та математичної статистики: навч. посібник / В.В. Голомозий, М.В. Карташов, К.В. Ральченко. – К.: Видавничо-поліграфічний центр «Київський університет», 2015. – 366 с.*\n",
    "\n",
    "Електронну версію збірника можна знайти [за посиланням](http://probability.univ.kiev.ua/userfiles/kmv/gkr-problems.pdf)."
   ]
  },
  {
   "cell_type": "code",
   "execution_count": 1,
   "metadata": {
    "collapsed": true
   },
   "outputs": [],
   "source": [
    "import numpy as np\n",
    "import matplotlib.pyplot as plt"
   ]
  },
  {
   "cell_type": "markdown",
   "metadata": {},
   "source": [
    "## 1 Закон великих чисел (посилений)"
   ]
  },
  {
   "cell_type": "markdown",
   "metadata": {},
   "source": [
    "Нехай $(\\xi_n, n \\geq 1)$ &mdash; н.о.р.в.в., $E[\\xi_1] = \\mu$.\n",
    "Тоді\n",
    "$$\n",
    "\\frac{\\xi_1 + \\ldots + \\xi_n}{n} \\to \\mu, \\qquad n \\to \\infty, \\quad \\text{м.н.}\n",
    "$$\n",
    "Позначимо також $S_n = \\xi_1 + \\ldots + \\xi_n$."
   ]
  },
  {
   "cell_type": "markdown",
   "metadata": {},
   "source": [
    "### 1.1 Геометричний розподіл"
   ]
  },
  {
   "cell_type": "markdown",
   "metadata": {},
   "source": [
    "Нехай $(\\xi_n, n \\geq 1)$ &mdash; н.о.р.в.в., де $\\xi_n \\sim Geom(p), n \\geq 1$.\n",
    "\n",
    "Зобразіть графічно збіжність із закону великих чисел для кожного параметра $p = 0.05, 0.25, 0.5, 0.75, 0.95$.\n",
    "\n",
    "Позначимо $S_n = \\xi_1 + \\ldots + \\xi_n$.\n",
    "\n",
    "1. Зобразіть графік функції $\\frac{S_n}{n}$ в залежності від $n = 1, \\ldots, 1000$ для кожного $p$.\n",
    "2. Додайте горизонтальну пряму, яка відповідає значенню, до якого прямує вираз $\\frac{S_n}{n}$.\n",
    "\n",
    "**Зауваження.** При розв'язанні даної задачі зручно використовувати функцію `numpy.cumsum` або відповідний метод."
   ]
  },
  {
   "cell_type": "code",
   "execution_count": 2,
   "metadata": {
    "collapsed": false
   },
   "outputs": [],
   "source": [
    "from scipy.stats import geom\n",
    "𝑝=[0.05,0.25,0.5,0.75,0.95]\n",
    "\n",
    "def func(p, n=1000):\n",
    "    ksi = geom(p).rvs(n)\n",
    "    sn = np.cumsum(ksi)\n",
    "    s=[]\n",
    "    for i in range(1, len(sn)+1):\n",
    "        s+=[sn[i-1]/i]\n",
    "    return s\n",
    "\n",
    "fig, axs = plt.subplots(1, 5,figsize=[15,10])\n",
    "for i in range(len(p)):\n",
    "    axs[i].plot(range(len(func(p[i]))), func(p[i]))\n",
    "    axs[i].plot([0,1000], [geom(p[i]).expect(),geom(p[i]).expect()],'r')\n"
   ]
  },
  {
   "cell_type": "markdown",
   "metadata": {},
   "source": [
    "### 1.2 Рівномірний розподіл"
   ]
  },
  {
   "cell_type": "markdown",
   "metadata": {},
   "source": [
    "Нехай $(\\xi_n, n \\geq 1)$ &mdash; н.о.р.в.в., де $\\xi_n \\sim Uniform(a, b), n \\geq 1$.\n",
    "\n",
    "Зобразіть графічно збіжність із закону великих чисел для кожної пари параметрів $[a, b] = [0, 1], [-1, 1], [-2, 5]$.\n",
    "\n",
    "Позначимо $S_n = \\xi_1 + \\ldots + \\xi_n$.\n",
    "\n",
    "1. Зобразіть графік функції $\\frac{S_n}{n}$ в залежності від $n = 1, \\ldots, 1000$ для кожної пари $[a, b]$.\n",
    "2. Додайте горизонтальну пряму, яка відповідає значенню, до якого прямує вираз $\\frac{S_n}{n}$.\n",
    "\n",
    "**Зауваження.** При розв'язанні даної задачі зручно використовувати функцію `numpy.cumsum` або відповідний метод."
   ]
  },
  {
   "cell_type": "code",
   "execution_count": 3,
   "metadata": {
    "collapsed": false
   },
   "outputs": [],
   "source": [
    "from scipy.stats import uniform\n",
    "\n",
    "param = [(0,1),(-1,1), (-2,5)]\n",
    "\n",
    "def func(p, n=1000):\n",
    "    ksi = uniform(p).rvs(n)\n",
    "    sn = np.cumsum(ksi)\n",
    "    s=[]\n",
    "    for i in range(1, len(sn)+1):\n",
    "        s+=[sn[i-1]/i]\n",
    "    return s\n",
    "#print(func(0.05))\n",
    "\n",
    "\n",
    "fig, axs = plt.subplots(1, 3,figsize=[15,10])\n",
    "for i in range(len(param)):\n",
    "    sn = func(p[i])\n",
    "    x = range(len(sn))\n",
    "    axs[i].plot(x, sn)\n",
    "    axs[i].plot([0,1000], [uniform(p[i]).expect(),uniform(p[i]).expect()],'r')\n"
   ]
  },
  {
   "cell_type": "markdown",
   "metadata": {},
   "source": [
    "### 1.3 Задача 1.18.19"
   ]
  },
  {
   "cell_type": "markdown",
   "metadata": {},
   "source": [
    "Випадкові величини $(\\epsilon_n, n \\geq -m)$ незалежні однаково розподілені та квадратично інтегровні.\n",
    "Довести, що для величин $\\xi_n = \\sum_{k=0}^{m} c_k \\epsilon_{n-k}$\n",
    "виконується закон великих чисел, де $c_k$ &mdash; довільні сталі.\n",
    "\n",
    "Нехай $\\epsilon_n \\sim N(0, 1)$.\n",
    "Сталі $c_0, \\ldots, c_m$ згенеруйте зі стандартного рівномірного розподілу.\n",
    "\n",
    "Зобразіть графічно збіжність із закону великих чисел для $\\xi_n$ для кожного параметра $m = 1, 3, 5, 10, 25, 50, 100$.\n",
    "\n",
    "Позначимо $S_n = \\xi_0 + \\ldots + \\xi_n$.\n",
    "\n",
    "1. Зобразіть графік функції $\\frac{S_n}{n}$ в залежності від $n = 1, \\ldots, 10000$ для кожного $m$.\n",
    "2. Додайте горизонтальну пряму, яка відповідає значенню, до якого прямує вираз $\\frac{S_n}{n}$.\n",
    "\n",
    "**Зауваження.** При розв'язанні даної задачі зручно використовувати функцію `numpy.cumsum` або відповідний метод."
   ]
  },
  {
   "cell_type": "code",
   "execution_count": 4,
   "metadata": {
    "collapsed": false,
    "scrolled": false
   },
   "outputs": [],
   "source": [
    "from scipy.stats import norm\n",
    "m = [1,3,5,10,25,50,100]\n",
    "\n",
    "def func(m, n=1000):\n",
    "    ek = list(norm(0,1).rvs(n))\n",
    "    ck = list(uniform().rvs(m))\n",
    "    ksi =[]\n",
    "    for i in range(n):\n",
    "        k = 0\n",
    "        for k in range(m):\n",
    "            k += ck[k]*ek[i-k-1]\n",
    "        ksi+=[k]\n",
    "    return ksi\n",
    "\n",
    "def funcc(ksi, n=1000):\n",
    "    sn = np.cumsum(ksi)\n",
    "    s=[]\n",
    "    for i in range(1, len(sn)+1):\n",
    "        s+=[sn[i-1]/i]\n",
    "    return s\n",
    "\n",
    "fig, axs = plt.subplots(1, 7,figsize=[15,10])\n",
    "\n",
    "for i in range(len(m)):\n",
    "    sn = funcc(func(m[i]))\n",
    "    x = range(len(sn))\n",
    "    axs[i].plot(x, sn)\n",
    "    axs[i].plot([0,1000], [m[i]-1, m[i]-1],'r')\n"
   ]
  },
  {
   "cell_type": "markdown",
   "metadata": {},
   "source": [
    "## 2 Метод Монте-Карло"
   ]
  },
  {
   "cell_type": "markdown",
   "metadata": {},
   "source": [
    "Метод Монте-Карло полягає в наближеному обчисленні інтегралів за допомогою випадкових величин.\n",
    "$$\n",
    "\\idotsint_{A} f \\left( \\overrightarrow{x} \\right) \\, d\\overrightarrow{x} \n",
    "= \\idotsint_{\\mathbf{R^d}} f \\left( \\overrightarrow{x} \\right) I_{A} \\left( \\overrightarrow{x} \\right) \\, d\\overrightarrow{x}\n",
    "= \\idotsint_{\\mathbf{R^d}}\n",
    "\\frac{f \\left( \\overrightarrow{x} \\right) I_{A} \\left( \\overrightarrow{x} \\right)}{f_{\\overrightarrow{\\xi}} \\left( \\overrightarrow{x} \\right)}\n",
    "f_{\\overrightarrow{\\xi}} \\left( \\overrightarrow{x} \\right) \\, d\\overrightarrow{x}\n",
    "= E \\left[ \\frac{f \\left( \\overrightarrow{x} \\right) I_{A} \\left( \\overrightarrow{x} \\right)}\n",
    "{f_{\\overrightarrow{\\xi}} \\left( \\overrightarrow{x} \\right)} \\right]\n",
    "\\approx \\frac{1}{n} \\sum_{i=1}^{n} \\frac{f \\left( \\overrightarrow{\\xi}_i \\right) I_{A} \\left( \\overrightarrow{\\xi}_i \\right)}\n",
    "{f_{\\overrightarrow{\\xi}} \\left( \\overrightarrow{\\xi}_i \\right)},\n",
    "$$\n",
    "де $f$ &mdash; деяка функція,\n",
    "$I_B$ &mdash; індикатор множини $B$,\n",
    "$\\overrightarrow{\\xi}, \\overrightarrow{\\xi}_i, i = 1, \\ldots, n$, &mdash; н.о.р.в.в. на множині $C \\supset A$\n",
    "зі щільністю $f_{\\overrightarrow{\\xi}}$.\n",
    "\n",
    "Або, в одномірному випадку,\n",
    "$$\n",
    "\\int_{a}^{b} f(x) \\, dx\n",
    "= \\int_{-\\infty}^{+\\infty} f(x) I_{(a, b)}(x) \\, dx\n",
    "= \\int_{-\\infty}^{+\\infty} \\frac{f(x) I_{(a, b)}(x)}{f_{\\xi}(x)} f_{\\xi}(x) \\, dx\n",
    "= E\\left[ \\frac{f(\\xi) I_{(a, b)}(\\xi)}{f_{\\xi}(\\xi)} \\right]\n",
    "\\approx \\frac{1}{n} \\sum_{i=1}^{n} \\frac{f(\\xi_i) I_{(a, b)}(\\xi_i)}{f_{\\xi}(\\xi_i)},\n",
    "$$\n",
    "де $a, b \\in \\mathbf{R} \\cup \\{-\\infty, +\\infty\\}$,\n",
    "$I_B$ &mdash; індикатор множини $B$,\n",
    "$f$ &mdash; деяка функція,\n",
    "$\\xi, \\xi_i, i = 1, \\ldots, n$, &mdash; н.о.р.в.в. на множині $A \\supset (a, b)$ зі щільністю $f_{\\xi}$.\n",
    "\n",
    "Або\n",
    "$$\n",
    "\\int_{A} f(x) \\, dx\n",
    "= E\\left[ f(\\xi) \\right] m(A)\n",
    "\\approx \\frac{1}{n} \\sum_{i=1}^{n} f(\\xi_i) m(A),\n",
    "$$\n",
    "де $f$ &mdash; деяка функція,\n",
    "$\\xi, \\xi_i, i = 1, \\ldots, n$, &mdash; н.о.р.в.в., рівномірно розподілені на множині $A$."
   ]
  },
  {
   "cell_type": "markdown",
   "metadata": {},
   "source": [
    "### 2.1 Завдання 2.1"
   ]
  },
  {
   "cell_type": "markdown",
   "metadata": {},
   "source": [
    "Порахуйте наближено $\\displaystyle \\int_{0}^{1} \\sin x \\, dx$ за допомогою метода Монте-Карло.\n",
    "\n",
    "1. Зобразіть графік функції $\\displaystyle \\frac{1}{n} \\sum_{i=1}^{n} f(\\xi_i) m(A)$\n",
    "в залежності від $n = 1, \\ldots, 1000$.\n",
    "2. Додайте горизонтальну пряму, яка відповідає теоретичному значенню інтеграла, тобто до якого прямує вираз\n",
    "$\\displaystyle \\frac{1}{n} \\sum_{i=1}^{n} f(\\xi_i) m(A)$.\n",
    "\n",
    "**Зауваження 1.** При розв'язанні даної задачі зручно використовувати функцію `numpy.cumsum`.\n",
    "\n",
    "**Зауваження 2.** При розв'язанні даної задачі зручно взяти $\\xi_i \\sim Uniform(0, 1)$."
   ]
  },
  {
   "cell_type": "code",
   "execution_count": 5,
   "metadata": {
    "collapsed": false
   },
   "outputs": [
    {
     "data": {
      "text/plain": [
       "[<matplotlib.lines.Line2D at 0x1175660b8>]"
      ]
     },
     "execution_count": 5,
     "metadata": {},
     "output_type": "execute_result"
    }
   ],
   "source": [
    "from math import sin\n",
    "import random\n",
    "def MoKa2(f, n, a=0, b=1):\n",
    "    z1 = []\n",
    "    Q = abs(b-a)\n",
    "    z = uniform(a, b).rvs(n)\n",
    "    for i in z:\n",
    "        if f(i):\n",
    "            z1 += [i]\n",
    "    if len(z) != 0:\n",
    "        mA = len(z1)/len(z) * Q ** 2\n",
    "    else:\n",
    "        mA = 0\n",
    "    return mA, z1\n",
    "\n",
    "def integ_MoKa2(f, mA, z1):\n",
    "    S = 0\n",
    "    for i in range(len(z1)):\n",
    "        S += mA * f(z1[i])/len(z1)\n",
    "    return S\n",
    "\n",
    "s=[]\n",
    "for n in range(1000):\n",
    "    s+=[integ_MoKa2(sin, *MoKa2(sin,n))]\n",
    "plt.plot(range(1000), s)\n",
    "plt.plot([0,1000], [0.45970,0.45970], 'r')\n"
   ]
  },
  {
   "cell_type": "markdown",
   "metadata": {},
   "source": [
    "### 2.2 Завдання 2.2"
   ]
  },
  {
   "cell_type": "markdown",
   "metadata": {},
   "source": [
    "Порахуйте наближено $\\displaystyle \\int_{1}^{\\infty} \\frac{1}{x^3} \\, dx$ за допомогою метода Монте-Карло.\n",
    "\n",
    "1. Зобразіть графік функції $\\displaystyle \\frac{1}{n} \\sum_{i=1}^{n} \\frac{f(\\xi_i) I_{(a, b)}(\\xi_i)}{f_{\\xi}(\\xi_i)}$\n",
    "в залежності від $n = 1, \\ldots, 10000$,\n",
    "де $\\xi, \\xi_i \\sim Exp(1)$.\n",
    "2. Зобразіть графік функції $\\displaystyle \\frac{1}{n} \\sum_{i=1}^{n} \\frac{f(\\xi_i) I_{(a, b)}(\\xi_i)}{f_{\\xi}(\\xi_i)}$\n",
    "в залежності від $n = 1, \\ldots, 10000$,\n",
    "де $\\xi, \\xi_i \\sim N(0, 1)$.\n",
    "3. Додайте горизонтальну пряму, яка відповідає теоретичному значенню інтеграла, тобто до якого прямує вираз\n",
    "$\\displaystyle \\frac{1}{n} \\sum_{i=1}^{n} \\frac{f(\\xi_i) I_{(a, b)}(\\xi_i)}{f_{\\xi}(\\xi_i)}$.\n",
    "4. Порівняйте точність наближення з пунктів $1, 2$.\n",
    "\n",
    "**Зауваження 1.** При розв'язанні даної задачі зручно використовувати функцію `numpy.cumsum`.\n",
    "\n",
    "**Зауваження 2.** Замість введення індикатора можна взяти такі $\\xi_i$, що $(\\xi_i - 1) \\sim Exp(1)$.\n",
    "Тобто поставити параметр `loc=1`.\n",
    "Тоді\n",
    "$$\n",
    "\\int_{1}^{\\infty} f(x) \\, dx\n",
    "= \\int_{1}^{\\infty} \\frac{f(x)}{f_{\\xi}(x)} f_{\\xi}(x) \\, dx\n",
    "= E\\left[ \\frac{f(\\xi)}{f_{\\xi}(\\xi)} \\right]\n",
    "\\approx \\frac{1}{n} \\sum_{i=1}^{n} \\frac{f(\\xi_i)}{f_{\\xi}(\\xi_i)}.\n",
    "$$"
   ]
  },
  {
   "cell_type": "code",
   "execution_count": 6,
   "metadata": {
    "collapsed": false
   },
   "outputs": [],
   "source": [
    "from scipy.stats import expon, norm\n",
    "\n",
    "fig = plt.figure(figsize=[20,7])\n",
    "func = lambda x: 1/x**3\n",
    "\n",
    "ax1 = fig.add_subplot(121)\n",
    "ax1.set_title(\"Using Exp(1)\")\n",
    "\n",
    "exp_rvs = expon(1).rvs(size=10000)\n",
    "exp_rv = expon(1)\n",
    "\n",
    "def exp_sum(ksi):\n",
    "    rez =0\n",
    "    for i, element in enumerate(ksi):\n",
    "        rez += func(element)/exp_rv.pdf(element)\n",
    "        yield rez/(i+1)\n",
    "\n",
    "\n",
    "x = list(range(10000))\n",
    "y = list(exp_sum(exp_rvs))\n",
    "ax1.plot(x,y)\n",
    "ax1.plot([1,10000],[1/2,1/2],'r--')\n",
    "\n",
    "ax2 = fig.add_subplot(122)\n",
    "ax2.set_title(\"Using N(0,1)\")\n",
    "ax2.plot(0,1)\n",
    "\n",
    "n_rvs = norm().rvs(size=10000)\n",
    "n_rv = norm()\n",
    "\n",
    "def norm_sum(ksi):\n",
    "    rez =0\n",
    "    for i, element in enumerate(ksi):\n",
    "        rez += func(element)/n_rv.pdf(element)*(0 if element<1 else 1)\n",
    "        yield rez/(i+1)\n",
    "        \n",
    "x = list(range(10000))\n",
    "y = list(norm_sum(n_rvs))\n",
    "ax2.plot(x,y,'b')\n",
    "ax2.plot([1,10000],[1/2,1/2],'r--')\n",
    "\n",
    "plt.show()\n"
   ]
  },
  {
   "cell_type": "markdown",
   "metadata": {},
   "source": [
    "### 2.3 Завдання 2.3"
   ]
  },
  {
   "cell_type": "markdown",
   "metadata": {},
   "source": [
    "Порахуйте наближено $\\displaystyle \\int_{-\\infty}^{+\\infty} e^{-|x|} \\, dx$ за допомогою метода Монте-Карло.\n",
    "\n",
    "1. Зобразіть графік функції $\\displaystyle \\frac{1}{n} \\sum_{i=1}^{n} \\frac{f(\\xi_i) I_{(a, b)}(\\xi_i)}{f_{\\xi}(\\xi_i)}$\n",
    "в залежності від $n = 1, \\ldots, 10000$,\n",
    "де $\\xi, \\xi_i \\sim N(0, 1)$.\n",
    "2. Додайте горизонтальну пряму, яка відповідає теоретичному значенню інтеграла, тобто до якого прямує вираз\n",
    "$\\displaystyle \\frac{1}{n} \\sum_{i=1}^{n} \\frac{f(\\xi_i) I_{(a, b)}(\\xi_i)}{f_{\\xi}(\\xi_i)}$.\n",
    "\n",
    "**Зауваження.** При розв'язанні даної задачі зручно використовувати функцію `numpy.cumsum`."
   ]
  },
  {
   "cell_type": "code",
   "execution_count": 7,
   "metadata": {
    "collapsed": false
   },
   "outputs": [],
   "source": [
    "n_rvs = norm().rvs(size=10000)\n",
    "n_rv = norm()\n",
    "\n",
    "func = lambda x: np.exp(-np.abs(x))\n",
    "\n",
    "def norm_sum(ksi):\n",
    "    rez =0\n",
    "    for i, element in enumerate(ksi):\n",
    "        rez += func(element)/n_rv.pdf(element)\n",
    "        yield rez/(i+1)\n",
    "        \n",
    "x = list(range(10000))\n",
    "y = list(norm_sum(n_rvs))\n",
    "plt.plot(x,y,'b')\n",
    "plt.plot([1,10000],[2,2],'r--')\n",
    "plt.title(\"exp(-|x|)\")\n",
    "\n",
    "plt.show()\n"
   ]
  },
  {
   "cell_type": "markdown",
   "metadata": {},
   "source": [
    "## 3 Центральна гранична теорема"
   ]
  },
  {
   "cell_type": "markdown",
   "metadata": {},
   "source": [
    "Нехай $(\\xi_n, n \\geq 1)$ &mdash; н.о.р.в.в., $E[\\xi_1] = \\mu, D(\\xi_1) = \\sigma^2$.\n",
    "Позначимо також $S_n = \\xi_1 + \\ldots + \\xi_n$.\n",
    "Тоді\n",
    "$$\n",
    "\\sqrt{n} \\left( \\frac{S_n}{n} - \\mu \\right) = \\frac{1}{\\sqrt{n}} \\sum_{i=1}^{n} (\\xi_i - \\mu) \\to \\zeta,\n",
    "\\qquad n \\to \\infty,\n",
    "$$\n",
    "де $\\zeta \\sim N(0, \\sigma^2)$."
   ]
  },
  {
   "cell_type": "markdown",
   "metadata": {},
   "source": [
    "### 3.1 Експоненційний розподіл"
   ]
  },
  {
   "cell_type": "markdown",
   "metadata": {},
   "source": [
    "Нехай $(\\xi_k, k \\geq 1)$ &mdash; н.о.р.в.в., де $\\xi_k \\sim Exp(1), k \\geq 1$.\n",
    "\n",
    "Зобразіть графічно збіжність із центральної граничної теореми.\n",
    "\n",
    "Для кожного $n = 1, 2, 3, 5, 10, 25, 50, 100, 200$ зобразіть:\n",
    "- нормовану гістограму $n\\_samples = 10000$ значень виразу\n",
    "$\\displaystyle \\frac{1}{\\sqrt{n}} \\sum_{i=1}^{n} (\\xi_i - \\mu)$, де $\\mu = E[\\xi_1]$;\n",
    "- графік функції щільності $\\zeta \\sim N(0, \\sigma^2)$, де $\\sigma^2 = D(\\xi_1)$.\n",
    "\n",
    "**Зауваження.** Виходить, що для розв'язання задачі необхідно генерувати $(n\\_samples \\cdot n)$ випадкових величин $\\xi_i$.\n",
    "З ними зручно буде працювати у формі матриці розміру $n\\_samples \\times n$.\n",
    "Тоді можна використати функцію `numpy.sum(axis=1)`."
   ]
  },
  {
   "cell_type": "code",
   "execution_count": 8,
   "metadata": {
    "collapsed": false,
    "scrolled": false
   },
   "outputs": [],
   "source": [
    "exp_rv = expon(1)\n",
    "n = (1,2,3,5,10,25,50,100,200)\n",
    "mu = exp_rv.expect()\n",
    "d = exp_rv.var()\n",
    "\n",
    "def h_sum(ksi):\n",
    "        rez = 0\n",
    "        for i, el in enumerate(ksi):\n",
    "            rez += (el-mu)\n",
    "            yield rez/np.sqrt(i+1)\n",
    "\n",
    "fig =plt.figure(figsize=[20,20])\n",
    "x = np.arange(-4,4,0.01)\n",
    "\n",
    "for i, el in enumerate(n):\n",
    "    ax = fig.add_subplot(3,3,i+1)\n",
    "    ax.set_title(\"n={}\".format(el))\n",
    "    hist_samples = []\n",
    "    for j in range(el):\n",
    "        hist_samples += list(h_sum(exp_rv.rvs(size=10000)))\n",
    "    ax.hist(hist_samples, bins=20, density=True, rwidth=0.9)\n",
    "    ax.plot(x, norm(0,d**2).pdf(x))\n",
    "        \n",
    "plt.show()\n"
   ]
  },
  {
   "cell_type": "markdown",
   "metadata": {},
   "source": [
    "### 3.2 Задача 1.23.24"
   ]
  },
  {
   "cell_type": "markdown",
   "metadata": {},
   "source": [
    "Випадкові величини $(\\xi_k, k \\geq 1)$ невід'ємні незалежні однаково розподілені, $E[\\xi_1] = 1, D(\\xi_1) = \\sigma^2$.\n",
    "Довести, що\n",
    "$\\displaystyle 2 \\left( \\sqrt{\\xi_1 + \\ldots + \\xi_n} - \\sqrt{n} \\right)\n",
    "\\xrightarrow{w} \\sigma \\zeta \\sim N(0, \\sigma^2), \\quad n \\to \\infty$.\n",
    "\n",
    "Нехай $\\xi_k \\sim Exp(1)$.\n",
    "\n",
    "Зобразіть графічно описану в задачі збіжність.\n",
    "\n",
    "Для кожного $n = 1, 2, 3, 5, 10, 25, 50, 100$ зобразіть:\n",
    "- нормовану гістограму $n\\_samples = 10000$ значень виразу\n",
    "$\\displaystyle 2 \\left( \\sqrt{\\xi_1 + \\ldots + \\xi_n} - \\sqrt{n} \\right)$;\n",
    "- графік функції щільності $\\sigma \\zeta \\sim N(0, \\sigma^2)$.\n",
    "\n",
    "**Зауваження 1.** Виходить, що для розв'язання задачі необхідно генерувати $(n\\_samples \\cdot n)$ випадкових величин $\\xi_i$.\n",
    "З ними зручно буде працювати у формі матриці розміру $n\\_samples \\times n$.\n",
    "Тоді можна використати функції `numpy.sum(axis=1)`.\n",
    "\n",
    "**Зауваження 2.** $\\xrightarrow{w}$ означає *слабку збіжність* (від англ. *weak*) або *збіжність за розподілом*.\n",
    "$\\xi_n \\xrightarrow{w} \\xi, n \\to \\infty$, якщо $P(\\xi_n < x) \\to P(\\xi < x), n \\to \\infty$,\n",
    "в усіх точках неперервності функції розподілу випадкової величини $\\xi$.\n",
    "\n",
    "**Зауваження 3.** Якщо $\\sigma \\zeta \\sim N(0, \\sigma^2)$, то $\\zeta \\sim N(0, 1)$."
   ]
  },
  {
   "cell_type": "code",
   "execution_count": 10,
   "metadata": {
    "collapsed": false,
    "scrolled": false
   },
   "outputs": [],
   "source": [
    "exp_rv = expon()\n",
    "n = (1,2,3,5,10,25,50,100)\n",
    "d = exp_rv.var()\n",
    "\n",
    "def h_sum(ksi):\n",
    "        rez = 0\n",
    "        for i, el in enumerate(ksi):\n",
    "            rez += el\n",
    "            yield 2*(np.sqrt(rez)-np.sqrt(i+1))\n",
    "\n",
    "fig =plt.figure(figsize=[20,20])\n",
    "x = np.arange(-4,4,0.01)\n",
    "\n",
    "for i, el in enumerate(n):\n",
    "    ax = fig.add_subplot(3,3,i+1)\n",
    "    ax.set_title(\"n={}\".format(el))\n",
    "    hist_samples = []\n",
    "    for j in range(el):\n",
    "        hist_samples += list(h_sum(exp_rv.rvs(size=10000)))\n",
    "    ax.hist(hist_samples, bins=20, density=True, rwidth=0.9)\n",
    "    ax.plot(x, norm(0,d**2).pdf(x))\n",
    "        \n",
    "plt.show()\n",
    "\n"
   ]
  },
  {
   "cell_type": "markdown",
   "metadata": {},
   "source": [
    "### 3.3 Задача 1.18.35"
   ]
  },
  {
   "cell_type": "code",
   "execution_count": null,
   "metadata": {},
   "outputs": [],
   "source": []
  },
  {
   "cell_type": "markdown",
   "metadata": {},
   "source": [
    "Випадкові величини $(\\xi_k, k \\geq 1)$ незалежні рівномірно розподілені:\n",
    "$\\xi_k \\sim Uniform(0, 1), \\xi_{(1:n)} = \\min_{1 \\leq k \\leq n} \\xi_k, \\xi_{(n:n)} = \\max_{1 \\leq k \\leq n} \\xi_k$.\n",
    "Довести, що:\n",
    "$\\displaystyle\n",
    "\\xi_{(1:n)} \\xrightarrow{P} 0,\n",
    "\\xi_{(n:n)} \\xrightarrow{P} 1,\n",
    "n \\xi_{(1:n)} \\xrightarrow{P} \\zeta,\n",
    "n \\left( 1 - \\xi_{(n:n)} \\right) \\xrightarrow{P} \\zeta,\n",
    "\\quad n \\to \\infty$, де $\\zeta \\sim Exp(1)$.\n",
    "\n",
    "Зобразіть графічно описані в задачі збіжності.\n",
    "\n",
    "1. Реалізуйте 2 сабплоти в 1 рядку.\n",
    "2. На першому сабплоті:\n",
    "   - Зобразіть графік функції $\\xi_{(1:n)}$ в залежності від $n = 1, \\ldots, 1000$.\n",
    "   - Додайте горизонтальну пряму, яка відповідає значенню, до якого прямує вираз $\\xi_{(1:n)}$.\n",
    "3. На другому сабплоті:\n",
    "   - Зобразіть графік функції $\\xi_{(n:n)}$ в залежності від $n = 1, \\ldots, 1000$.\n",
    "   - Додайте горизонтальну пряму, яка відповідає значенню, до якого прямує вираз $\\xi_{(n:n)}$.\n",
    "4. Для кожного $n = 1, 2, 3, 5, 10$ реалізуйте два сабплоти:\n",
    "   1. На першому сабплоті зобразіть:\n",
    "      - нормовану гістограму $n\\_samples = 10000$ значень виразу $n \\xi_{(1:n)}$;\n",
    "      - графік функції щільності $\\zeta \\sim Exp(1)$.\n",
    "   2. На другому сабплоті зобразіть:\n",
    "      - нормовану гістограму $n\\_samples = 10000$ значень виразу $n \\left( 1 - \\xi_{(n:n)} \\right)$;\n",
    "      - графік функції щільності $\\zeta \\sim Exp(1)$.\n",
    "\n",
    "**Зауваження 1.** При розв'язанні даної задачі зручно використовувати функції `numpy.minimum.accumulate` та `numpy.maximum.accumulate`.\n",
    "\n",
    "**Зауваження 2.** $\\xrightarrow{P}$ означає *збіжність за ймовірністю*.\n",
    "\n",
    "**Зауваження 3.** Виходить, що для розв'язання задачі необхідно генерувати $(n\\_samples \\cdot n)$ випадкових величин $\\xi_i$.\n",
    "З ними зручно буде працювати у формі матриці розміру $n\\_samples \\times n$.\n",
    "Тоді можна використати функції `numpy.min(axis=1)` та `numpy.max(axis=1)`."
   ]
  },
  {
   "cell_type": "code",
   "execution_count": 11,
   "metadata": {
    "collapsed": false
   },
   "outputs": [],
   "source": [
    "from scipy.stats import uniform\n",
    "\n",
    "fig =plt.figure(figsize=[20,7])\n",
    "ax1 = fig.add_subplot(121)\n",
    "ax1.set_title(\"ksi(1,n)\")\n",
    "ax2 = fig.add_subplot(122)\n",
    "ax2.set_title(\"ksi(n,n)\")\n",
    "\n",
    "u_rv = uniform()\n",
    "u_rvs = u_rv.rvs(size=10000)\n",
    "\n",
    "def ksi_1_n(ksi):\n",
    "    rez = ksi[0]+1\n",
    "    for i, element in enumerate(ksi):\n",
    "        rez = min(rez, element)\n",
    "        yield rez\n",
    "        \n",
    "def ksi_n_n(ksi):\n",
    "    rez = ksi[0]-1\n",
    "    for i, element in enumerate(ksi):\n",
    "        rez = max(rez, element)\n",
    "        yield rez\n",
    "\n",
    "x = list(range(1,10001))\n",
    "y = list(ksi_1_n(u_rvs))\n",
    "ax1.plot(x,y)\n",
    "ax1.plot([1,10000],[0,0],'r--')\n",
    "\n",
    "x = list(range(1,10001))\n",
    "y = list(ksi_n_n(u_rvs))\n",
    "ax2.plot(x,y)\n",
    "ax2.plot([1,10000],[1,1],'r--')\n",
    "\n",
    "plt.show()\n",
    "\n",
    "n = (1,2,3,5,10)\n",
    "\n",
    "x = np.arange(0,8,0.01)\n",
    "\n",
    "def n_ksi_1_n(ksi):\n",
    "    rez = ksi[0]+1\n",
    "    for i, element in enumerate(ksi):\n",
    "        rez = min(rez, element)\n",
    "        yield rez*(i+1)\n",
    "        \n",
    "def n_ksi_n_n(ksi):\n",
    "    rez = ksi[0]-1\n",
    "    for i, element in enumerate(ksi):\n",
    "        rez = max(rez, element)\n",
    "        yield (1-rez)*(i+1)\n",
    "        \n",
    "fig =plt.figure(figsize=[20,50])\n",
    "i = 1\n",
    "for el in n:\n",
    "    ax = fig.add_subplot(5,2,i)\n",
    "    ax.set_title(\"n={}, n*ksi(1,n)\".format(el))\n",
    "    hist_samples = []\n",
    "    for j in range(el):\n",
    "        hist_samples += list(n_ksi_1_n(u_rv.rvs(size=10000)))\n",
    "    ax.hist(hist_samples, bins=20, density=True, rwidth=0.9)\n",
    "    ax.plot(x, expon().pdf(x))\n",
    "    \n",
    "    ax = fig.add_subplot(5,2,i+1)\n",
    "    ax.set_title(\"n={}, n*(1-ksi(n,n))\".format(el))\n",
    "    hist_samples = []\n",
    "    for j in range(el):\n",
    "        hist_samples += list(n_ksi_n_n(u_rv.rvs(size=10000)))\n",
    "    ax.hist(hist_samples, bins=20, density=True, rwidth=0.9)\n",
    "    ax.plot(x, expon().pdf(x))\n",
    "    i += 2\n",
    "        \n",
    "plt.show()\n"
   ]
  }
 ],
 "metadata": {
  "kernelspec": {
   "display_name": "Python 3",
   "language": "python",
   "name": "python3"
  },
  "language_info": {
   "codemirror_mode": {
    "name": "ipython",
    "version": 3
   },
   "file_extension": ".py",
   "mimetype": "text/x-python",
   "name": "python",
   "nbconvert_exporter": "python",
   "pygments_lexer": "ipython3",
   "version": "3.6.1"
  }
 },
 "nbformat": 4,
 "nbformat_minor": 0
}
