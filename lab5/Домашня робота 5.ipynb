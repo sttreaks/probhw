{
 "cells": [
  {
   "cell_type": "markdown",
   "metadata": {},
   "source": [
    "# Домашня робота №5"
   ]
  },
  {
   "cell_type": "markdown",
   "metadata": {},
   "source": [
    "# Неперервні розподіли"
   ]
  },
  {
   "cell_type": "code",
   "execution_count": 1,
   "metadata": {
    "collapsed": true
   },
   "outputs": [],
   "source": [
    "import numpy as np\n",
    "import matplotlib.pyplot as plt"
   ]
  },
  {
   "cell_type": "markdown",
   "metadata": {},
   "source": [
    "## 1 Логнормальний розподіл"
   ]
  },
  {
   "cell_type": "markdown",
   "metadata": {},
   "source": [
    "Більш детальна інформація в [документації](https://docs.scipy.org/doc/scipy/reference/generated/scipy.stats.lognorm.html)."
   ]
  },
  {
   "cell_type": "code",
   "execution_count": 2,
   "metadata": {
    "collapsed": true
   },
   "outputs": [],
   "source": [
    "from scipy.stats import lognorm"
   ]
  },
  {
   "cell_type": "markdown",
   "metadata": {},
   "source": [
    "Випадкова велиина $Y$ має логнормальний розподіл, якщо $Y = \\exp \\left\\{ X \\right\\}$, де $X$ - випадкова величина з нормального розподілу."
   ]
  },
  {
   "cell_type": "code",
   "execution_count": 3,
   "metadata": {
    "collapsed": true
   },
   "outputs": [],
   "source": [
    "mu = 0\n",
    "sigma = 1"
   ]
  },
  {
   "cell_type": "markdown",
   "metadata": {},
   "source": [
    "Параметри $s, loc, scale$ відповідають логнормальному розподілу зі щільністю $$f(x) = \\frac{1}{s (x - loc) \\sqrt{2 \\pi}} \\exp \\left\\{ -\\frac{1}{2 s^2} \\log^2 \\left( \\frac{x - loc}{scale} \\right) \\right\\}.$$"
   ]
  },
  {
   "cell_type": "code",
   "execution_count": 4,
   "metadata": {
    "collapsed": false
   },
   "outputs": [],
   "source": [
    "s = sigma\n",
    "loc = 0\n",
    "scale = np.exp(mu)"
   ]
  },
  {
   "cell_type": "markdown",
   "metadata": {},
   "source": [
    "### 1.1 Щільність"
   ]
  },
  {
   "cell_type": "code",
   "execution_count": 5,
   "metadata": {
    "collapsed": true
   },
   "outputs": [],
   "source": [
    "x1 = np.arange(-1, 5, 0.1)"
   ]
  },
  {
   "cell_type": "markdown",
   "metadata": {},
   "source": [
    "Виведіть значення функції щільності логнормального розподілу з параметрами $s, loc, scale$ в точках вектора $x1$."
   ]
  },
  {
   "cell_type": "code",
   "execution_count": 6,
   "metadata": {
    "collapsed": false
   },
   "outputs": [
    {
     "name": "stdout",
     "output_type": "stream",
     "text": [
      "[0.         0.         0.         0.         0.         0.\n 0.         0.         0.         0.         0.         0.28159019\n 0.54626787 0.64420326 0.65544417 0.62749608 0.58357382 0.53479483\n 0.48641578 0.44081569 0.39894228 0.36103126 0.32697202 0.29649637\n 0.26927623 0.24497365 0.22326545 0.20385426 0.18647245 0.17088224\n 0.15687402 0.14426385 0.13289069 0.12261371 0.11330975 0.10487107\n 0.09720326 0.09022355 0.0838592  0.07804624 0.07272826 0.06785542\n 0.06338366 0.05927389 0.05549141 0.05200533 0.04878813 0.04581523\n 0.04306462 0.04051659 0.03815346 0.0359593  0.03391978 0.03202199\n 0.03025424 0.02860596 0.02706758 0.02563041 0.02428655 0.02302884]\n"
     ]
    }
   ],
   "source": [
    "ln_pdf = lognorm.pdf(x1, s=s, loc=loc, scale=scale)\n",
    "print(ln_pdf)\n"
   ]
  },
  {
   "cell_type": "markdown",
   "metadata": {},
   "source": [
    "Зобразіть графічно значення функції щільності логнормального розподілу з параметрами $s, loc, scale$ в точках вектора $x2$."
   ]
  },
  {
   "cell_type": "code",
   "execution_count": 7,
   "metadata": {
    "collapsed": true
   },
   "outputs": [],
   "source": [
    "x2 = np.arange(-1, 5.01, 0.01)"
   ]
  },
  {
   "cell_type": "code",
   "execution_count": 9,
   "metadata": {
    "collapsed": false,
    "scrolled": true
   },
   "outputs": [],
   "source": [
    "plt.plot(x2, lognorm.pdf(x2, s=s, loc=loc, scale=scale))\n",
    "plt.show()\n"
   ]
  },
  {
   "cell_type": "markdown",
   "metadata": {},
   "source": [
    "### 1.2 Функція розподілу"
   ]
  },
  {
   "cell_type": "markdown",
   "metadata": {},
   "source": [
    "Виведіть значення функції розподілу логнормального розподілу з параметрами $s, loc, scale$ в точках вектора $x1$."
   ]
  },
  {
   "cell_type": "code",
   "execution_count": 10,
   "metadata": {
    "collapsed": false
   },
   "outputs": [
    {
     "name": "stdout",
     "output_type": "stream",
     "text": [
      "[0.         0.         0.         0.         0.         0.\n 0.         0.         0.         0.         0.         0.0106511\n 0.05376031 0.11430005 0.17975721 0.2441086  0.30473658 0.36066758\n 0.41171189 0.45804487 0.5        0.53796577 0.57233481 0.60347969\n 0.63174261 0.65743217 0.68082379 0.70216179 0.72166225 0.73951597\n 0.7558914  0.77093735 0.78478538 0.79755201 0.80934054 0.82024279\n 0.83034044 0.83970636 0.84840565 0.85649658 0.86403139 0.87105706\n 0.87761584 0.88374585 0.88948152 0.89485401 0.89989155 0.90461978\n 0.909062   0.91323945 0.91717148 0.92087577 0.92436849 0.92766445\n 0.93077722 0.93371928 0.93650208 0.93913617 0.94163127 0.94399635]\n"
     ]
    }
   ],
   "source": [
    "ln_cdf = lognorm.cdf(x1, s=s, loc=loc, scale=scale)\n",
    "print(ln_cdf)\n"
   ]
  },
  {
   "cell_type": "markdown",
   "metadata": {},
   "source": [
    "Зобразіть графічно значення функції розподілу логнормального розподілу з параметрами $s, loc, scale$ в точках вектора $x2$."
   ]
  },
  {
   "cell_type": "code",
   "execution_count": 11,
   "metadata": {
    "collapsed": false
   },
   "outputs": [],
   "source": [
    "plt.plot(x2, lognorm.cdf(x2, s=s, loc=loc, scale=scale))\n",
    "plt.show()\n"
   ]
  },
  {
   "cell_type": "markdown",
   "metadata": {},
   "source": [
    "### 1.3 Випадкові величини"
   ]
  },
  {
   "cell_type": "markdown",
   "metadata": {},
   "source": [
    "Згенеруйте $100$ випадкових величин з логнормального розподілу з параметрами $s, loc, scale$."
   ]
  },
  {
   "cell_type": "code",
   "execution_count": 12,
   "metadata": {
    "collapsed": false
   },
   "outputs": [
    {
     "name": "stdout",
     "output_type": "stream",
     "text": [
      "[0.48763963 0.89116724 2.67100205 0.38445197 1.42001393 2.25457382\n 1.70791295 0.29855416 0.21769252 1.18280938 3.1289243  1.34794227\n 2.73294995 1.27187045 0.84742971 0.195511   1.15328608 1.81155442\n 1.42520382 0.41711819 5.50442044 0.23122439 1.47885479 0.94399306\n 0.53359492 1.94344478 1.13377317 1.32828914 3.62870684 0.45892429\n 0.71924263 0.41112237 0.07472951 0.41587347 0.49716397 1.34227151\n 0.59442375 1.17545095 1.13549824 0.19651582 0.66861414 2.39150005\n 1.50691973 2.41160171 4.63230021 0.51416864 2.23330946 1.6964566\n 2.36466471 3.10614322 1.05422308 1.40750144 0.87854062 1.06256361\n 1.50132455 3.44582365 0.26004006 1.28183964 0.41511957 0.4244806\n 1.17777534 0.61900212 0.38214247 0.94760223 0.24034187 0.22802051\n 1.60262439 3.15783307 0.59617514 0.41883949 5.21583556 3.77878298\n 1.2256655  1.60090304 0.42012084 1.25942432 0.62258261 0.50059973\n 2.97052039 0.5864264  0.55974305 5.88078712 4.4937882  2.32510563\n 3.43344743 1.78119459 0.90023422 3.02395988 3.49952123 2.7264354\n 0.64284278 0.5144716  1.10680926 2.48515085 0.65486312 0.39543551\n 2.68897922 1.83469946 0.96828576 1.28928393]\n"
     ]
    }
   ],
   "source": [
    "ln_rvs = lognorm.rvs(s=s, loc=loc, scale=scale, size=100)\n",
    "print(ln_rvs)\n"
   ]
  },
  {
   "cell_type": "markdown",
   "metadata": {},
   "source": [
    "Зобразіть гістограму $10000$ випадкових величин з логнормального розподілу з параметрами $s, loc, scale$."
   ]
  },
  {
   "cell_type": "code",
   "execution_count": 13,
   "metadata": {
    "collapsed": false
   },
   "outputs": [],
   "source": [
    "plt.hist(lognorm.rvs(s=s, loc=loc, scale=scale, size=10000), bins=30)\n",
    "plt.show()\n",
    "\n"
   ]
  },
  {
   "cell_type": "markdown",
   "metadata": {},
   "source": [
    "Зобразіть графік функції щільності та нормовану гістограму $100000$ випадкових величин з логнормального розподілу з параметрами $s, loc, scale$. Поексперементуйте з аргументом $bins$ функції `hist`."
   ]
  },
  {
   "cell_type": "code",
   "execution_count": 14,
   "metadata": {
    "collapsed": false,
    "scrolled": true
   },
   "outputs": [],
   "source": [
    "ln_rvs = lognorm.rvs(s=s, loc=loc, scale=scale, size=10000)\n",
    "\n",
    "x = np.arange(0, 20, 0.01)\n",
    "\n",
    "plt.figure(figsize=(20, 5))\n",
    "\n",
    "plt.subplot(1, 3, 1, title='плотность')\n",
    "plt.plot(x, lognorm.pdf(x, s=s, loc=loc, scale=scale))\n",
    "\n",
    "plt.subplot(1, 3, 2, title='bins=30')\n",
    "plt.hist(ln_rvs, bins=30, density=True)\n",
    "\n",
    "plt.subplot(1, 3, 3, title='bins=70')\n",
    "plt.hist(ln_rvs, bins=70, density=True)\n",
    "\n",
    "plt.show()\n",
    "\n"
   ]
  },
  {
   "cell_type": "markdown",
   "metadata": {},
   "source": [
    "## 2 Бета розподіл"
   ]
  },
  {
   "cell_type": "markdown",
   "metadata": {},
   "source": [
    "Більш детальна інформація в [документації](https://docs.scipy.org/doc/scipy/reference/generated/scipy.stats.beta.html)."
   ]
  },
  {
   "cell_type": "code",
   "execution_count": 15,
   "metadata": {
    "collapsed": true
   },
   "outputs": [],
   "source": [
    "from scipy.stats import beta"
   ]
  },
  {
   "cell_type": "code",
   "execution_count": 16,
   "metadata": {
    "collapsed": true
   },
   "outputs": [],
   "source": [
    "a = 2\n",
    "b = 1.1"
   ]
  },
  {
   "cell_type": "markdown",
   "metadata": {},
   "source": [
    "Параметри $loc, scale$ відповідають бета розподілу зі щільністю $$f(x) = \\frac{\\Gamma(\\alpha + \\beta)}{\\Gamma(\\alpha) \\Gamma(\\beta) \\, scale} \\left( \\frac{x - loc}{scale} \\right)^{\\alpha - 1} \\left( 1 - \\frac{x - loc}{scale} \\right)^{\\beta - 1}.$$"
   ]
  },
  {
   "cell_type": "code",
   "execution_count": 17,
   "metadata": {
    "collapsed": true
   },
   "outputs": [],
   "source": [
    "loc = 0\n",
    "scale = 1"
   ]
  },
  {
   "cell_type": "markdown",
   "metadata": {},
   "source": [
    "### 2.1 Щільність"
   ]
  },
  {
   "cell_type": "code",
   "execution_count": 18,
   "metadata": {
    "collapsed": true
   },
   "outputs": [],
   "source": [
    "x1 = np.arange(-1, 2.1, 0.1)"
   ]
  },
  {
   "cell_type": "markdown",
   "metadata": {},
   "source": [
    "Виведіть значення функції щільності бета розподілу з параметрами $a, b, loc, scale$ в точках вектора $x1$."
   ]
  },
  {
   "cell_type": "code",
   "execution_count": 19,
   "metadata": {
    "collapsed": false
   },
   "outputs": [
    {
     "name": "stdout",
     "output_type": "stream",
     "text": [
      "[0.         0.         0.         0.         0.         0.\n 0.         0.         0.         0.         0.         0.22857895\n 0.45180494 0.66871804 0.877985   1.07765311 1.26464674 1.4335807\n 1.57327618 1.6514084  0.06735332 0.         0.         0.\n 0.         0.         0.         0.         0.         0.\n 0.        ]\n"
     ]
    }
   ],
   "source": [
    "b_pdf = beta.pdf(x1, a=a, b=b, loc=loc, scale=scale)\n",
    "print(b_pdf)\n"
   ]
  },
  {
   "cell_type": "markdown",
   "metadata": {},
   "source": [
    "Зобразіть графічно значення функції щільності бета розподілу з параметрами $a, b, loc, scale$ в точках вектора $x2$."
   ]
  },
  {
   "cell_type": "code",
   "execution_count": 20,
   "metadata": {
    "collapsed": true
   },
   "outputs": [],
   "source": [
    "x2 = np.arange(-1, 2.01, 0.01)"
   ]
  },
  {
   "cell_type": "code",
   "execution_count": 21,
   "metadata": {
    "collapsed": false
   },
   "outputs": [],
   "source": [
    "plt.plot(beta.pdf(x2, a=a, b=b, loc=loc, scale=scale))\n",
    "plt.show()\n"
   ]
  },
  {
   "cell_type": "markdown",
   "metadata": {},
   "source": [
    "### 2.2 Функція розподілу"
   ]
  },
  {
   "cell_type": "markdown",
   "metadata": {},
   "source": [
    "Виведіть значення функції розподілу бета розподілу з параметрами $a, b, loc, scale$ в точках вектора $x1$."
   ]
  },
  {
   "cell_type": "code",
   "execution_count": 22,
   "metadata": {
    "collapsed": false
   },
   "outputs": [
    {
     "name": "stdout",
     "output_type": "stream",
     "text": [
      "[0.         0.         0.         0.         0.         0.\n 0.         0.         0.         0.         0.         0.01147026\n 0.04553762 0.10162122 0.17902701 0.27689943 0.39413749 0.52923231\n 0.67989619 0.84192868 1.         1.         1.         1.\n 1.         1.         1.         1.         1.         1.\n 1.        ]\n"
     ]
    }
   ],
   "source": [
    "b_cdf = beta.cdf(x1, a=a, b=b, loc=loc, scale=scale)\n",
    "print(b_cdf)\n"
   ]
  },
  {
   "cell_type": "markdown",
   "metadata": {},
   "source": [
    "Зобразіть графічно значення функції розподілу бета розподілу з параметрами $a, b, loc, scale$ в точках вектора $x2$."
   ]
  },
  {
   "cell_type": "code",
   "execution_count": 23,
   "metadata": {
    "collapsed": false
   },
   "outputs": [],
   "source": [
    "plt.plot(x2, beta.cdf(x2, a=a, b=b, loc=loc, scale=scale))\n",
    "plt.show()\n"
   ]
  },
  {
   "cell_type": "markdown",
   "metadata": {},
   "source": [
    "### 2.3 Випадкові величини"
   ]
  },
  {
   "cell_type": "markdown",
   "metadata": {},
   "source": [
    "Згенеруйте $100$ випадкових величин з бета розподілу з параметрами $a, b, loc, scale$."
   ]
  },
  {
   "cell_type": "code",
   "execution_count": 24,
   "metadata": {
    "collapsed": false
   },
   "outputs": [
    {
     "name": "stdout",
     "output_type": "stream",
     "text": [
      "[0.40309676 0.55247258 0.62684351 0.84593232 0.56467249 0.7859863\n 0.14623088 0.63905478 0.47486082 0.97592641 0.93869151 0.98312049\n 0.00350733 0.86719295 0.33310125 0.75903564 0.2287761  0.90455445\n 0.18370444 0.76350781 0.88346968 0.73014521 0.46616847 0.55097627\n 0.35931146 0.57653924 0.7987435  0.92056416 0.30286722 0.47963038\n 0.92210073 0.49783965 0.77048223 0.74819727 0.70834391 0.7678145\n 0.96517509 0.95098514 0.12717458 0.93647269 0.32046776 0.65617054\n 0.77902114 0.63768269 0.34998816 0.8180077  0.72860828 0.08985543\n 0.97118039 0.84622297 0.47100286 0.68738277 0.06016272 0.64796982\n 0.30318325 0.63434143 0.80595244 0.5294422  0.90613118 0.51542585\n 0.54248094 0.8540833  0.9758926  0.6214114  0.95412234 0.80487145\n 0.46667908 0.68758341 0.92313368 0.94137898 0.75733326 0.98605727\n 0.62991179 0.2028153  0.39204351 0.52974944 0.61008729 0.78151753\n 0.02872322 0.7544905  0.84411228 0.58084126 0.67302756 0.94112382\n 0.64017291 0.08116113 0.38940392 0.68962845 0.6754826  0.28224809\n 0.2932569  0.93813342 0.57648782 0.72495076 0.83705433 0.77093761\n 0.80052209 0.36484619 0.62903456 0.34610536]\n"
     ]
    }
   ],
   "source": [
    "b_rvs = beta.rvs(a=a, b=b, loc=loc, scale=scale, size=100)\n",
    "print(b_rvs)\n"
   ]
  },
  {
   "cell_type": "markdown",
   "metadata": {},
   "source": [
    "Зобразіть гістограму $10000$ випадкових величин з бета розподілу з параметрами $a, b, loc, scale$."
   ]
  },
  {
   "cell_type": "code",
   "execution_count": 25,
   "metadata": {
    "collapsed": false
   },
   "outputs": [],
   "source": [
    "plt.hist(beta.rvs(a=a, b=b, loc=loc, scale=scale, size=10000))\n",
    "plt.show()\n"
   ]
  },
  {
   "cell_type": "markdown",
   "metadata": {},
   "source": [
    "Зобразіть графік функції щільності та нормовану гістограму $100000$ випадкових величин з бета розподілу з параметрами $a, b, loc, scale$. Поексперементуйте з аргументом $bins$ функції `hist`."
   ]
  },
  {
   "cell_type": "code",
   "execution_count": 26,
   "metadata": {
    "collapsed": false,
    "scrolled": true
   },
   "outputs": [],
   "source": [
    "plt.figure(figsize=(20, 5))\n",
    "\n",
    "x = np.arange(0, 1, 0.01)\n",
    "\n",
    "b_rvs = beta.rvs(a=a, b=b, loc=loc, scale=scale, size=10000)\n",
    "\n",
    "plt.subplot(1, 3, 1, title='плотность')\n",
    "plt.plot(x, beta.pdf(x, a=a, b=b, loc=loc, scale=scale))\n",
    "\n",
    "plt.subplot(1, 3, 2, title='bins=30')\n",
    "plt.hist(b_rvs, bins=30, density=True)\n",
    "\n",
    "\n",
    "plt.subplot(1, 3, 3, title='bins=70')\n",
    "plt.hist(b_rvs, bins=70, density=True)\n",
    "\n",
    "plt.show()\n"
   ]
  },
  {
   "cell_type": "markdown",
   "metadata": {},
   "source": [
    "## 3 Різні параметри"
   ]
  },
  {
   "cell_type": "markdown",
   "metadata": {},
   "source": [
    "### 3.1 Рівномірний розподіл"
   ]
  },
  {
   "cell_type": "markdown",
   "metadata": {},
   "source": [
    "Зобразіть графічно функцію щільності, функцію розподілу та нормовану гістограму $100000$ випадкових величин з параметром `bins=50` разом з функцією щільності рівномірного розподілу з параметрами:\n",
    "1. $a = 0, b = 2$\n",
    "2. $a = 0, b = 5$\n",
    "3. $a = 0, b = 10$\n",
    "4. $a = -2, b = 2$\n",
    "5. $a = -5, b = 5$\n",
    "\n",
    "Зробіть шкали на відповідних графіках однаковими для кращого порівняння. Наприклад, усі графіки щільності повинні мати однакові границі як по осі $x$, так і по осі $y$."
   ]
  },
  {
   "cell_type": "code",
   "execution_count": 27,
   "metadata": {
    "collapsed": false,
    "scrolled": false
   },
   "outputs": [
    {
     "name": "stdout",
     "output_type": "stream",
     "text": [
      "loc = 0, scale = 2\n"
     ]
    },
    {
     "name": "stdout",
     "output_type": "stream",
     "text": [
      "loc = 0, scale = 5\n"
     ]
    },
    {
     "name": "stdout",
     "output_type": "stream",
     "text": [
      "loc = 0, scale = 10\n"
     ]
    },
    {
     "name": "stdout",
     "output_type": "stream",
     "text": [
      "loc = -2, scale = 4\n"
     ]
    },
    {
     "name": "stdout",
     "output_type": "stream",
     "text": [
      "loc = -5, scale = 10\n"
     ]
    }
   ],
   "source": [
    "from scipy.stats import uniform\n",
    "\n",
    "a = (0, 0, 0, -2, -5)\n",
    "b = (2, 5, 10, 2, 5)\n",
    "\n",
    "x = np.arange(-2, 10, 0.01)\n",
    "\n",
    "\n",
    "for i in range(len(a)):\n",
    "    plt.figure(figsize=(20, 5))\n",
    "    \n",
    "    loc = a[i]\n",
    "    scale = b[i] - loc\n",
    "    \n",
    "    print(f'loc = {loc}, scale = {scale}')\n",
    "    \n",
    "    u_rvs = uniform.rvs(loc=loc, scale=scale, size=10000)\n",
    "    \n",
    "    plt.subplot(1, 3, 1, title='плотность', xlim=(-3, 11), ylim=(-0.2, 0.7))\n",
    "    plt.plot(x, uniform.pdf(x, loc=loc, scale=scale))\n",
    "    \n",
    "    plt.subplot(1, 3, 2, title='распределение', xlim=(-3, 11), ylim=(-0.2, 1.2))\n",
    "    plt.plot(x, uniform.cdf(x, loc=loc, scale=scale))\n",
    "    \n",
    "    plt.subplot(1, 3, 3, title='гистограмма', xlim=(-3, 11), ylim=(0, 0.6))\n",
    "    plt.hist(u_rvs, bins=50, density=True)\n",
    "    \n",
    "    plt.show()\n"
   ]
  },
  {
   "cell_type": "markdown",
   "metadata": {},
   "source": [
    "### 3.2 Експоненційний розподіл"
   ]
  },
  {
   "cell_type": "markdown",
   "metadata": {},
   "source": [
    "Зобразіть графічно функцію щільності, функцію розподілу та нормовану гістограму $100000$ випадкових величин з параметром `bins=50` разом з функцією щільності експоненційного розподілу з параметрами:\n",
    "1. $\\lambda = 0.1$\n",
    "2. $\\lambda = 0.2$\n",
    "3. $\\lambda = 0.3$\n",
    "4. $\\lambda = 0.4$\n",
    "5. $\\lambda = 0.5$\n",
    "6. $\\lambda = 0.6$\n",
    "7. $\\lambda = 0.7$\n",
    "8. $\\lambda = 0.8$\n",
    "9. $\\lambda = 0.9$\n",
    "\n",
    "Зробіть шкали на відповідних графіках однаковими для кращого порівняння. Наприклад, усі графіки щільності повинні мати однакові границі як по осі $x$, так і по осі $y$."
   ]
  },
  {
   "cell_type": "code",
   "execution_count": 28,
   "metadata": {
    "collapsed": false,
    "scrolled": false
   },
   "outputs": [
    {
     "name": "stdout",
     "output_type": "stream",
     "text": [
      "loc = 0, scale = 10.0\n"
     ]
    },
    {
     "name": "stdout",
     "output_type": "stream",
     "text": [
      "loc = 0, scale = 5.0\n"
     ]
    },
    {
     "name": "stdout",
     "output_type": "stream",
     "text": [
      "loc = 0, scale = 3.3333333333333335\n"
     ]
    },
    {
     "name": "stdout",
     "output_type": "stream",
     "text": [
      "loc = 0, scale = 2.5\n"
     ]
    },
    {
     "name": "stdout",
     "output_type": "stream",
     "text": [
      "loc = 0, scale = 2.0\n"
     ]
    },
    {
     "name": "stdout",
     "output_type": "stream",
     "text": [
      "loc = 0, scale = 1.6666666666666667\n"
     ]
    },
    {
     "name": "stdout",
     "output_type": "stream",
     "text": [
      "loc = 0, scale = 1.4285714285714286\n"
     ]
    },
    {
     "name": "stdout",
     "output_type": "stream",
     "text": [
      "loc = 0, scale = 1.25\n"
     ]
    },
    {
     "name": "stdout",
     "output_type": "stream",
     "text": [
      "loc = 0, scale = 1.1111111111111112\n"
     ]
    }
   ],
   "source": [
    "from scipy.stats import expon\n",
    "\n",
    "lamb = [i/10 for i in range(1, 10)]\n",
    "loc = 0\n",
    "\n",
    "x = np.arange(0, 80, 0.01)\n",
    "\n",
    "\n",
    "for i in range(len(lamb)):\n",
    "    plt.figure(figsize=(20, 5))\n",
    "    \n",
    "    scale = 1 / lamb[i]\n",
    "    \n",
    "    print(f'loc = {loc}, scale = {scale}')\n",
    "    \n",
    "    e_rvs = expon.rvs(loc=loc, scale=scale, size=10000)\n",
    "    \n",
    "    plt.subplot(1, 3, 1, title='плотность', xlim=(-3, 80), ylim=(-0.2, 1))\n",
    "    plt.plot(x, expon.pdf(x, loc=loc, scale=scale))\n",
    "    \n",
    "    plt.subplot(1, 3, 2, title='распределение', xlim=(-3, 80), ylim=(-0.2, 1.2))\n",
    "    plt.plot(x, expon.cdf(x, loc=loc, scale=scale))\n",
    "    \n",
    "    plt.subplot(1, 3, 3, title='гистограмма', xlim=(-5, 90), ylim=(0, 0.4))\n",
    "    plt.hist(e_rvs, bins=50, density=True)\n",
    "    \n",
    "    plt.show()\n"
   ]
  },
  {
   "cell_type": "markdown",
   "metadata": {},
   "source": [
    "### 3.3 Нормальний розподіл"
   ]
  },
  {
   "cell_type": "markdown",
   "metadata": {},
   "source": [
    "Зобразіть графічно функцію щільності, функцію розподілу та нормовану гістограму $100000$ випадкових величин з параметром `bins=50` разом з функцією щільності нормального розподілу з параметрами:\n",
    "1. $\\mu = 0, \\sigma = 0.5$\n",
    "2. $\\mu = 0, \\sigma = 2$\n",
    "3. $\\mu = 0, \\sigma = 4$\n",
    "4. $\\mu = 0, \\sigma = 1$\n",
    "5. $\\mu = -2, \\sigma = 1$\n",
    "6. $\\mu = 2, \\sigma = 1$\n",
    "\n",
    "Зробіть шкали на відповідних графіках однаковими для кращого порівняння. Наприклад, усі графіки щільності повинні мати однакові границі як по осі $x$, так і по осі $y$."
   ]
  },
  {
   "cell_type": "code",
   "execution_count": 29,
   "metadata": {
    "collapsed": false,
    "scrolled": false
   },
   "outputs": [
    {
     "name": "stdout",
     "output_type": "stream",
     "text": [
      "loc = 0, scale = 0.5\n"
     ]
    },
    {
     "name": "stdout",
     "output_type": "stream",
     "text": [
      "loc = 0, scale = 2\n"
     ]
    },
    {
     "name": "stdout",
     "output_type": "stream",
     "text": [
      "loc = 0, scale = 4\n"
     ]
    },
    {
     "name": "stdout",
     "output_type": "stream",
     "text": [
      "loc = 0, scale = 1\n"
     ]
    },
    {
     "name": "stdout",
     "output_type": "stream",
     "text": [
      "loc = -2, scale = 1\n"
     ]
    },
    {
     "name": "stdout",
     "output_type": "stream",
     "text": [
      "loc = 2, scale = 1\n"
     ]
    }
   ],
   "source": [
    "from scipy.stats import norm\n",
    "\n",
    "mu = (0, 0, 0, 0, -2, 2)\n",
    "sig = (0.5, 2, 4, 1, 1, 1)\n",
    "\n",
    "x = np.arange(0, 80, 0.01)\n",
    "\n",
    "\n",
    "for i in range(len(mu)):\n",
    "    plt.figure(figsize=(20, 5))\n",
    "\n",
    "    loc = mu[i]\n",
    "    scale = sig[i]\n",
    "    \n",
    "    print(f'loc = {loc}, scale = {scale}')\n",
    "    \n",
    "    n_rvs = norm.rvs(loc=loc, scale=scale, size=10000)\n",
    "    \n",
    "    plt.subplot(1, 3, 1, title='плотность', xlim=(-15, 15), ylim=(-0.2, 1))\n",
    "    plt.plot(x, norm.pdf(x, loc=loc, scale=scale))\n",
    "    \n",
    "    plt.subplot(1, 3, 2, title='распределение', xlim=(-15, 15), ylim=(-0.2, 1.2))\n",
    "    plt.plot(x, norm.cdf(x, loc=loc, scale=scale))\n",
    "    \n",
    "    plt.subplot(1, 3, 3, title='гистограмма', xlim=(-15, 15), ylim=(0, 0.9))\n",
    "    plt.hist(n_rvs, bins=50, density=True)\n",
    "    \n",
    "    plt.show()\n"
   ]
  },
  {
   "cell_type": "markdown",
   "metadata": {},
   "source": [
    "### 3.4 Гамма розподіл"
   ]
  },
  {
   "cell_type": "markdown",
   "metadata": {},
   "source": [
    "Зобразіть графічно функцію щільності, функцію розподілу та нормовану гістограму $100000$ випадкових величин з параметром `bins=50` разом з функцією щільності гамма розподілу з параметрами:\n",
    "1. $\\alpha = 0.25$\n",
    "2. $\\alpha = 0.5$\n",
    "3. $\\alpha = 0.75$\n",
    "4. $\\alpha = 1$\n",
    "5. $\\alpha = 1.5$\n",
    "6. $\\alpha = 2$\n",
    "7. $\\alpha = 3$\n",
    "8. $\\alpha = 5$\n",
    "9. $\\alpha = 10$\n",
    "\n",
    "Зробіть шкали на відповідних графіках однаковими для кращого порівняння. Наприклад, усі графіки щільності повинні мати однакові границі як по осі $x$, так і по осі $y$."
   ]
  },
  {
   "cell_type": "code",
   "execution_count": 30,
   "metadata": {
    "collapsed": false,
    "scrolled": false
   },
   "outputs": [
    {
     "name": "stdout",
     "output_type": "stream",
     "text": [
      "loc = 0, scale = 1, alpha = 0.25\n"
     ]
    },
    {
     "name": "stdout",
     "output_type": "stream",
     "text": [
      "loc = 0, scale = 1, alpha = 0.5\n"
     ]
    },
    {
     "name": "stdout",
     "output_type": "stream",
     "text": [
      "loc = 0, scale = 1, alpha = 0.75\n"
     ]
    },
    {
     "name": "stdout",
     "output_type": "stream",
     "text": [
      "loc = 0, scale = 1, alpha = 1\n"
     ]
    },
    {
     "name": "stdout",
     "output_type": "stream",
     "text": [
      "loc = 0, scale = 1, alpha = 1.5\n"
     ]
    },
    {
     "name": "stdout",
     "output_type": "stream",
     "text": [
      "loc = 0, scale = 1, alpha = 2\n"
     ]
    },
    {
     "name": "stdout",
     "output_type": "stream",
     "text": [
      "loc = 0, scale = 1, alpha = 3\n"
     ]
    },
    {
     "name": "stdout",
     "output_type": "stream",
     "text": [
      "loc = 0, scale = 1, alpha = 5\n"
     ]
    },
    {
     "name": "stdout",
     "output_type": "stream",
     "text": [
      "loc = 0, scale = 1, alpha = 10\n"
     ]
    }
   ],
   "source": [
    "from scipy.stats import gamma\n",
    "\n",
    "a = (0.25, 0.5, 0.75, 1, 1.5, 2, 3, 5, 10)\n",
    "\n",
    "x = np.arange(0, 80, 0.01)\n",
    "\n",
    "\n",
    "for i in range(len(a)):\n",
    "    plt.figure(figsize=(20, 5))\n",
    "\n",
    "    loc = 0\n",
    "    scale = 1\n",
    "    \n",
    "    print(f'loc = {loc}, scale = {scale}, alpha = {a[i]}')\n",
    "    \n",
    "    g_rvs = gamma.rvs(a=a[i], loc=loc, scale=scale, size=10000)\n",
    "    \n",
    "    plt.subplot(1, 3, 1, title='плотность', xlim=(-3, 30), ylim=(-0.2, 5))\n",
    "    plt.plot(x, gamma.pdf(x, a=a[i], loc=loc, scale=scale))\n",
    "    \n",
    "    plt.subplot(1, 3, 2, title='распределение', xlim=(-3, 30), ylim=(-0.2, 1.2))\n",
    "    plt.plot(x, gamma.cdf(x, a=a[i], loc=loc, scale=scale))\n",
    "    \n",
    "    plt.subplot(1, 3, 3, title='гистограмма', xlim=(-3, 30), ylim=(0, 5.5))\n",
    "    plt.hist(g_rvs, bins=50, density=True)\n",
    "    \n",
    "    plt.show()\n"
   ]
  },
  {
   "cell_type": "markdown",
   "metadata": {},
   "source": [
    "### 3.5 Логнормальний розподіл"
   ]
  },
  {
   "cell_type": "markdown",
   "metadata": {},
   "source": [
    "Зобразіть графічно функцію щільності, функцію розподілу та нормовану гістограму $100000$ випадкових величин з параметром `bins=200` разом з функцією щільності логнормального розподілу з такими параметрами відповідного нормального розподілу:\n",
    "1. $\\mu = 0, \\sigma = 0.5$\n",
    "2. $\\mu = 0, \\sigma = 1.5$\n",
    "3. $\\mu = 0, \\sigma = 2$\n",
    "4. $\\mu = 0, \\sigma = 1$\n",
    "5. $\\mu = -1, \\sigma = 1$\n",
    "6. $\\mu = 1, \\sigma = 1$\n",
    "\n",
    "Зробіть шкали на відповідних графіках однаковими для кращого порівняння. Наприклад, усі графіки щільності повинні мати однакові границі як по осі $x$, так і по осі $y$."
   ]
  },
  {
   "cell_type": "code",
   "execution_count": 31,
   "metadata": {
    "collapsed": false,
    "scrolled": false
   },
   "outputs": [
    {
     "name": "stdout",
     "output_type": "stream",
     "text": [
      "s = 0.5, loc = 0, scale = 1.0\n"
     ]
    },
    {
     "name": "stdout",
     "output_type": "stream",
     "text": [
      "s = 1.5, loc = 0, scale = 1.0\n"
     ]
    },
    {
     "name": "stdout",
     "output_type": "stream",
     "text": [
      "s = 2, loc = 0, scale = 1.0\n"
     ]
    },
    {
     "name": "stdout",
     "output_type": "stream",
     "text": [
      "s = 1, loc = 0, scale = 1.0\n"
     ]
    },
    {
     "name": "stdout",
     "output_type": "stream",
     "text": [
      "s = 1, loc = 0, scale = 0.36787944117144233\n"
     ]
    },
    {
     "name": "stdout",
     "output_type": "stream",
     "text": [
      "s = 1, loc = 0, scale = 2.718281828459045\n"
     ]
    }
   ],
   "source": [
    "mu = (0, 0, 0, 0, -1, 1)\n",
    "sig = (0.5, 1.5, 2, 1, 1, 1)\n",
    "\n",
    "x = np.arange(0, 80, 0.01)\n",
    "\n",
    "\n",
    "for i in range(len(mu)):\n",
    "    plt.figure(figsize=(20, 5))\n",
    "\n",
    "    s = sig[i]\n",
    "    loc = 0\n",
    "    scale = np.exp(mu[i])\n",
    "    \n",
    "    print(f's = {s}, loc = {loc}, scale = {scale}')\n",
    "    \n",
    "    ln_rvs = lognorm.rvs(s=s, loc=loc, scale=scale, size=10000)\n",
    "    \n",
    "    plt.subplot(1, 3, 1, title='плотность', xlim=(-2, 40), ylim=(-0.2, 1))\n",
    "    plt.plot(x, lognorm.pdf(x, s=s, loc=loc, scale=scale))\n",
    "    \n",
    "    plt.subplot(1, 3, 2, title='распределение', xlim=(-2, 40), ylim=(-0.2, 1.2))\n",
    "    plt.plot(x, lognorm.cdf(x, s=s, loc=loc, scale=scale))\n",
    "    \n",
    "    plt.subplot(1, 3, 3, title='гистограмма')\n",
    "    plt.hist(ln_rvs, bins=200, density=True)\n",
    "    \n",
    "    plt.show()\n",
    "\n"
   ]
  },
  {
   "cell_type": "markdown",
   "metadata": {},
   "source": [
    "### 3.6 Бета розподіл"
   ]
  },
  {
   "cell_type": "markdown",
   "metadata": {},
   "source": [
    "Зобразіть графічно функцію щільності, функцію розподілу та нормовану гістограму $100000$ випадкових величин з параметром `bins=50` разом з функцією щільності бета розподілу з параметрами:\n",
    "1. $\\alpha = 0.5, \\beta = 2$\n",
    "2. $\\alpha = 0.5, \\beta = 1.5$\n",
    "3. $\\alpha = 0.5, \\beta = 0.5$\n",
    "4. $\\alpha = 0.5, \\beta = 1$\n",
    "5. $\\alpha = 1, \\beta = 1$\n",
    "6. $\\alpha = 1, \\beta = 0.5$\n",
    "7. $\\alpha = 1, \\beta = 1.5$\n",
    "8. $\\alpha = 1, \\beta = 2$\n",
    "9. $\\alpha = 2, \\beta = 2$\n",
    "10. $\\alpha = 2, \\beta = 5$\n",
    "11. $\\alpha = 5, \\beta = 2$\n",
    "12. $\\alpha = 10, \\beta = 10$\n",
    "\n",
    "Зробіть шкали на відповідних графіках однаковими для кращого порівняння. Наприклад, усі графіки щільності повинні мати однакові границі як по осі $x$, так і по осі $y$."
   ]
  },
  {
   "cell_type": "code",
   "execution_count": 32,
   "metadata": {
    "collapsed": false,
    "scrolled": false
   },
   "outputs": [
    {
     "name": "stdout",
     "output_type": "stream",
     "text": [
      "a = 0.5, b = 2, loc = 0, scale = 1\n"
     ]
    },
    {
     "name": "stdout",
     "output_type": "stream",
     "text": [
      "a = 0.5, b = 1.5, loc = 0, scale = 1\n"
     ]
    },
    {
     "name": "stdout",
     "output_type": "stream",
     "text": [
      "a = 0.5, b = 0.5, loc = 0, scale = 1\n"
     ]
    },
    {
     "name": "stdout",
     "output_type": "stream",
     "text": [
      "a = 0.5, b = 1, loc = 0, scale = 1\n"
     ]
    },
    {
     "name": "stdout",
     "output_type": "stream",
     "text": [
      "a = 1, b = 1, loc = 0, scale = 1\n"
     ]
    },
    {
     "name": "stdout",
     "output_type": "stream",
     "text": [
      "a = 1, b = 0.5, loc = 0, scale = 1\n"
     ]
    },
    {
     "name": "stdout",
     "output_type": "stream",
     "text": [
      "a = 1, b = 1.5, loc = 0, scale = 1\n"
     ]
    },
    {
     "name": "stdout",
     "output_type": "stream",
     "text": [
      "a = 1, b = 2, loc = 0, scale = 1\n"
     ]
    },
    {
     "name": "stdout",
     "output_type": "stream",
     "text": [
      "a = 2, b = 2, loc = 0, scale = 1\n"
     ]
    },
    {
     "name": "stdout",
     "output_type": "stream",
     "text": [
      "a = 2, b = 5, loc = 0, scale = 1\n"
     ]
    },
    {
     "name": "stdout",
     "output_type": "stream",
     "text": [
      "a = 5, b = 2, loc = 0, scale = 1\n"
     ]
    },
    {
     "name": "stdout",
     "output_type": "stream",
     "text": [
      "a = 10, b = 10, loc = 0, scale = 1\n"
     ]
    }
   ],
   "source": [
    "a = (0.5, 0.5, 0.5, 0.5, 1, 1, 1, 1, 2, 2, 5, 10)\n",
    "b = (2, 1.5, 0.5, 1, 1, 0.5, 1.5, 2, 2, 5, 2, 10)\n",
    "\n",
    "x = np.arange(0, 80, 0.01)\n",
    "\n",
    "\n",
    "for i in range(len(a)):\n",
    "    plt.figure(figsize=(20, 5))\n",
    "\n",
    "    loc = 0\n",
    "    scale = 1\n",
    "    \n",
    "    print(f'a = {a[i]}, b = {b[i]}, loc = {loc}, scale = {scale}')\n",
    "    \n",
    "    b_rvs = beta.rvs(a=a[i], b=b[i], loc=loc, scale=scale, size=10000)\n",
    "    \n",
    "    plt.subplot(1, 3, 1, title='плотность', xlim=(0, 1), ylim=(-0.2, 5))\n",
    "    plt.plot(x, beta.pdf(x, a=a[i], b=b[i], loc=loc, scale=scale))\n",
    "    \n",
    "    plt.subplot(1, 3, 2, title='распределение', xlim=(0, 1), ylim=(-0.2, 1.2))\n",
    "    plt.plot(x, beta.cdf(x, a=a[i], b=b[i], loc=loc, scale=scale))\n",
    "    \n",
    "    plt.subplot(1, 3, 3, title='гистограмма')\n",
    "    plt.hist(b_rvs, bins=50, density=True)\n",
    "    \n",
    "    plt.show()\n"
   ]
  },
  {
   "cell_type": "markdown",
   "metadata": {
    "collapsed": true
   },
   "source": [
    "## 4 Апроксимація біноміального розподілу нормальним розподілом"
   ]
  },
  {
   "cell_type": "markdown",
   "metadata": {},
   "source": [
    "Покажіть схожість біноміального розподілу та нормального розподілу з відповідними параметрами:\n",
    "- $n = 100, p = 0.05$\n",
    "- $n = 100, p = 0.1$\n",
    "- $n = 100, p = 0.15$\n",
    "- $n = 100, p = 0.2$\n",
    "- $n = 100, p = 0.35$\n",
    "- $n = 100, p = 0.5$\n",
    "- $n = 100, p = 0.75$\n",
    "\n",
    "Зобразіть графіки їх функцій щільності (обидві функції на одному графіку) та функцій розподілу (обидві функції на другому графіку) на двох сабплотах в одному рядку.\n",
    "\n",
    "**Зауваження.** Математичне сподівання та дисперсія відповідного нормального розподілу збігається з математичним сподіванням та дисперсією біноміального розподілу."
   ]
  },
  {
   "cell_type": "code",
   "execution_count": 33,
   "metadata": {
    "collapsed": false,
    "scrolled": false
   },
   "outputs": [
    {
     "name": "stdout",
     "output_type": "stream",
     "text": [
      "n = 100, p = 0.05, loc = 0, scale = 1\n"
     ]
    },
    {
     "name": "stdout",
     "output_type": "stream",
     "text": [
      "n = 100, p = 0.1, loc = 0, scale = 1\n"
     ]
    },
    {
     "name": "stdout",
     "output_type": "stream",
     "text": [
      "n = 100, p = 0.15, loc = 0, scale = 1\n"
     ]
    },
    {
     "name": "stdout",
     "output_type": "stream",
     "text": [
      "n = 100, p = 0.2, loc = 0, scale = 1\n"
     ]
    },
    {
     "name": "stdout",
     "output_type": "stream",
     "text": [
      "n = 100, p = 0.35, loc = 0, scale = 1\n"
     ]
    },
    {
     "name": "stdout",
     "output_type": "stream",
     "text": [
      "n = 100, p = 0.5, loc = 0, scale = 1\n"
     ]
    },
    {
     "name": "stdout",
     "output_type": "stream",
     "text": [
      "n = 100, p = 0.75, loc = 0, scale = 1\n"
     ]
    }
   ],
   "source": [
    "from scipy.stats import binom\n",
    "\n",
    "n = 100\n",
    "p = (0.05, 0.1, 0.15, 0.2, 0.35, 0.5 ,0.75)\n",
    "loc = 0\n",
    "scale = 1\n",
    "\n",
    "x = np.arange(0, 80, 0.01)\n",
    "\n",
    "for i in range(len(p)):\n",
    "    plt.figure(figsize=(20, 5))\n",
    "    \n",
    "    print(f'n = {n}, p = {p[i]}, loc = {loc}, scale = {scale}')\n",
    "    \n",
    "    plt.subplot(2, 2, 1, title='плотность бином', xlim=(0, 30))\n",
    "    plt.plot(x, binom.pmf(x, n, p[i]))\n",
    "    \n",
    "    plt.subplot(2, 2, 2, title='плотность норм', xlim=(0, 10))\n",
    "    plt.plot(x, norm.pdf(x, loc=loc, scale=scale))\n",
    "    \n",
    "    plt.subplot(2, 2, 3, title='распределение бином', xlim=(0, 30))\n",
    "    plt.plot(x, binom.cdf(x, n, p[i]))\n",
    "    \n",
    "    plt.subplot(2, 2, 4, title='распределение норм', xlim=(0, 10))\n",
    "    plt.plot(x, norm.cdf(x, loc=loc, scale=scale))\n",
    "    \n",
    "    plt.show()"
   ]
  },
  {
   "cell_type": "markdown",
   "metadata": {
    "collapsed": true
   },
   "source": [
    "## 5 Апроксимація числа $\\pi$"
   ]
  },
  {
   "cell_type": "markdown",
   "metadata": {},
   "source": [
    "Розглянемо квадрат зі стороною $2a$. Нехай коло радіуса $a$ вписане в цей квадрат. Якщо вибрати точку рівномірно з цього квадрата, то ймовірність, що ця точка також належить і вписаному колу, дорівнює відношенню площ кола та квадрата, тобто $\\pi a^2/(2a)^2 = \\pi/4$.\n",
    "\n",
    "Реалізуйте функцію емпіричної апроксимації числа $\\pi$ за $n$ симуляцій (вибору $n$ випадкових точок з квадрата). Зобразіть графічно отримані елементи: квадрат, коло, випадкові точки. Виділіть точки, що належать колу, окремим кольором від інших точок.\n",
    "\n",
    "Нехай $a = 1$. Виведіть результат функції для:\n",
    "1. $n = 10$\n",
    "2. $n = 100$\n",
    "3. $n = 500$\n",
    "4. $n = 1000$\n",
    "5. $n = 2000$"
   ]
  },
  {
   "cell_type": "code",
   "execution_count": 34,
   "metadata": {
    "collapsed": false,
    "scrolled": false
   },
   "outputs": [
    {
     "name": "stdout",
     "output_type": "stream",
     "text": [
      "n = 10\n"
     ]
    },
    {
     "name": "stdout",
     "output_type": "stream",
     "text": [
      "π ≈ 3.2\nn = 100\n"
     ]
    },
    {
     "name": "stdout",
     "output_type": "stream",
     "text": [
      "π ≈ 3.24\nn = 500\n"
     ]
    },
    {
     "name": "stdout",
     "output_type": "stream",
     "text": [
      "π ≈ 3.088\nn = 1000\n"
     ]
    },
    {
     "name": "stdout",
     "output_type": "stream",
     "text": [
      "π ≈ 3.184\nn = 2000\n"
     ]
    },
    {
     "name": "stdout",
     "output_type": "stream",
     "text": [
      "π ≈ 3.074\n"
     ]
    }
   ],
   "source": [
    "n = (10, 100, 500, 1000, 2000)\n",
    "\n",
    "a = 1\n",
    "loc = 0\n",
    "scale = 2 * a\n",
    "\n",
    "x = np.arange(0, 2*a, 0.001)\n",
    "\n",
    "\n",
    "for _ in n:\n",
    "    print(f'n = {_}')\n",
    "    c_circle = 0\n",
    "    c_square = 0\n",
    "    plt.figure(figsize=(20, 20))\n",
    "    plt.subplot(1, 1, 1, xlim=(0, 2*a), ylim=(0, 2*a))\n",
    "    plt.plot(x, 1 + np.sqrt(a**2 - (x-1)**2), 'b-')\n",
    "    plt.plot(x, 1 - np.sqrt(a**2 - (x-1)**2), 'b-')\n",
    "    for i in range(_):\n",
    "        tmp = uniform.rvs(loc=loc, scale=scale, size=2)# выбираем случайную точку из квадрата\n",
    "        if (tmp[0] - 1) ** 2 + (tmp[1] - 1) ** 2 <= a ** 2: # если точка в круге\n",
    "            c_circle += 1\n",
    "            c_square += 1\n",
    "            plt.plot([tmp[0],], [tmp[1],], 'ro')\n",
    "        else:\n",
    "            c_square += 1\n",
    "            plt.plot([tmp[0],], [tmp[1],], 'ko')\n",
    "    plt.show()\n",
    "    print(f'π ≈ {4 * c_circle / c_square}')\n"
   ]
  },
  {
   "cell_type": "code",
   "execution_count": null,
   "metadata": {},
   "outputs": [],
   "source": []
  }
 ],
 "metadata": {
  "kernelspec": {
   "display_name": "Python 3",
   "language": "python",
   "name": "python3"
  },
  "language_info": {
   "codemirror_mode": {
    "name": "ipython",
    "version": 3
   },
   "file_extension": ".py",
   "mimetype": "text/x-python",
   "name": "python",
   "nbconvert_exporter": "python",
   "pygments_lexer": "ipython3",
   "version": "3.6.1"
  }
 },
 "nbformat": 4,
 "nbformat_minor": 0
}
