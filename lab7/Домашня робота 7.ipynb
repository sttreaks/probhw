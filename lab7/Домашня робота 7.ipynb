{
 "cells": [
  {
   "cell_type": "markdown",
   "metadata": {},
   "source": [
    "# Домашня робота №7"
   ]
  },
  {
   "cell_type": "markdown",
   "metadata": {},
   "source": [
    "# Перетворення випадкових величин"
   ]
  },
  {
   "cell_type": "code",
   "execution_count": 2,
   "metadata": {
    "collapsed": true
   },
   "outputs": [],
   "source": [
    "import numpy as np\n",
    "import matplotlib.pyplot as plt\n",
    "from scipy.stats import uniform, norm, geom, expon"
   ]
  },
  {
   "cell_type": "markdown",
   "metadata": {},
   "source": [
    "## 1 Квантильне перетворення"
   ]
  },
  {
   "cell_type": "markdown",
   "metadata": {},
   "source": [
    "### 1.1 Задана щільність"
   ]
  },
  {
   "cell_type": "markdown",
   "metadata": {},
   "source": [
    "Нехай випадкова величина $\\xi$ має щільність\n",
    "$f(x) = a \\sin(x) I_{[0, \\pi]}(x),$\n",
    "де $I_{[c, d]}(x)$ - індикатор на відрізку $[c, d]$.\n",
    "\n",
    "Знайдіть значення параметра $a$.\n",
    "\n",
    "Згенеруйте $n = 100000$ значень випадкової величини $\\xi$ за допомогою квантильного перетворення.\n",
    "\n",
    "Намалюйте нормовану гістограму отриманих $n = 100000$ значень випадкової величини $\\xi$ разом з її функцією щільності."
   ]
  },
  {
   "cell_type": "code",
   "execution_count": 3,
   "metadata": {
    "collapsed": false
   },
   "outputs": [],
   "source": [
    "x = np.arange(0, np.pi, 0.01)\n",
    "\n",
    "plt.hist(np.arccos(1 - 2 * uniform(0, 1).rvs(100000)), bins=50, density=True)\n",
    "plt.plot(x, np.sin(x) / 2, 'r')\n",
    "plt.show()\n",
    "\n"
   ]
  },
  {
   "cell_type": "markdown",
   "metadata": {},
   "source": [
    "### 1.2 Нормальний розподіл"
   ]
  },
  {
   "cell_type": "markdown",
   "metadata": {},
   "source": [
    "Нехай випадкова величина $\\xi \\sim N(0, 1)$.\n",
    "\n",
    "Згенеруйте $n = 100000$ значень випадкової величини $\\xi$ за допомогою квантильного перетворення.\n",
    "\n",
    "Намалюйте нормовану гістограму отриманих $n = 100000$ значень випадкової величини $\\xi$ разом з її функцією щільності."
   ]
  },
  {
   "cell_type": "code",
   "execution_count": 4,
   "metadata": {
    "collapsed": false
   },
   "outputs": [],
   "source": [
    "x = np.arange(-4, 4, 0.1)\n",
    "plt.hist(norm.ppf(uniform(0, 1).rvs(100000)), density=True, bins=50)\n",
    "plt.plot(x, norm.pdf(x), 'r')\n",
    "plt.show()\n"
   ]
  },
  {
   "cell_type": "markdown",
   "metadata": {},
   "source": [
    "## 2 Відсутність пам'яті"
   ]
  },
  {
   "cell_type": "markdown",
   "metadata": {},
   "source": [
    "Розглянемо випадкову величину $\\xi$ з геометричного розподілу з параметром $p = 0.5$.\n",
    "Тобто $\\xi \\sim Geom(0.5)$.\n",
    "\n",
    "1. Згенеруйте $n = 10000$ значень випадкової величини $\\xi$;\n",
    "2. Реалізуйте 2 сабплоти в одному рядку;\n",
    "3. На першому сабплоті намалюйте:\n",
    "   - нормовану гістограму згенерованих $n = 10000$ значень випадкової величини $\\xi$;\n",
    "   - функцію ймовірностей випадкової величини $\\xi$;\n",
    "4. Отримайте $n = 10000$ значень випадкової величини $\\eta = (\\xi - 1) I_{(\\xi - 1) > 0}$;\n",
    "5. На другому сабплоті намалюйте:\n",
    "   - нормовану гістограму отриманих значень випадкової величини $\\eta$;\n",
    "   - функцію ймовірностей випадкової величини $\\xi$.\n",
    "\n",
    "**Зауваження 1.** Графік функції ймовірнстей краще малювати для $10$ значень.\n",
    "\n",
    "**Зауваження 2.** У гістограмах проміжок значень слід розбивати на одиничні інтервали."
   ]
  },
  {
   "cell_type": "code",
   "execution_count": 6,
   "metadata": {
    "collapsed": false
   },
   "outputs": [],
   "source": [
    "xi = geom(0.5).rvs(10000)\n",
    "eta = xi - 1\n",
    "\n",
    "x = np.arange(0, 10)\n",
    "\n",
    "plt.figure(figsize=(20, 5))\n",
    "\n",
    "plt.subplot(121)\n",
    "\n",
    "plt.hist(xi, density=True, bins=20)\n",
    "plt.plot(x, geom(0.5, loc=1).pmf(x), 'r')\n",
    "\n",
    "plt.subplot(122)\n",
    "\n",
    "plt.hist(eta, density=True, bins=20)\n",
    "plt.plot(x, geom(0.5).pmf(x), 'r')\n",
    "\n",
    "plt.show()\n"
   ]
  },
  {
   "cell_type": "markdown",
   "metadata": {},
   "source": [
    "## 3 Задача 1.11.3"
   ]
  },
  {
   "cell_type": "markdown",
   "metadata": {},
   "source": [
    "Розглянемо випадкову величину $\\xi$ зі стандартного експоненційного розподілу.\n",
    "Тобто $\\xi \\sim Exp(1)$."
   ]
  },
  {
   "cell_type": "markdown",
   "metadata": {},
   "source": [
    "### 3.1 Експонента"
   ]
  },
  {
   "cell_type": "markdown",
   "metadata": {},
   "source": [
    "1. Згенеруйте $n = 10000$ значень випадкової величини $\\xi$;\n",
    "2. Реалізуйте 2 сабплоти в одному рядку;\n",
    "3. На першому сабплоті намалюйте:\n",
    "   - нормовану гістограму згенерованих $n = 10000$ значень випадкової величини $\\xi$;\n",
    "   - функцію щільності випадкової величини $\\xi$;\n",
    "4. Отримайте $n = 10000$ значень випадкової величини $\\eta = \\exp\\{-\\xi\\}$ (застосуйте функцію модуль до згенерованих $n = 10000$ значень випадкової величини $\\xi$);\n",
    "5. На другому сабплоті намалюйте:\n",
    "   - нормовану гістограму отриманих $n = 10000$ значень випадкової величини $\\eta$;\n",
    "   - функцію щільності випадкової величини $\\xi$;\n",
    "   - функцію щільності випадкової величини $\\eta$."
   ]
  },
  {
   "cell_type": "code",
   "execution_count": 5,
   "metadata": {
    "collapsed": false
   },
   "outputs": [],
   "source": [
    "xi = expon.rvs(size=10000)\n",
    "\n",
    "x = np.arange(0, 6.1, 0.1)\n",
    "\n",
    "plt.figure(figsize=(20, 5))\n",
    "\n",
    "plt.subplot(121)\n",
    "plt.hist(xi, density=True, bins=50)\n",
    "plt.plot(x, expon.pdf(x), 'r')\n",
    "\n",
    "plt.subplot(122)\n",
    "plt.hist(expon.pdf(xi), density=True, bins=50)\n",
    "plt.plot(x, uniform.pdf(x), 'y')\n",
    "\n",
    "\n",
    "plt.show()\n"
   ]
  },
  {
   "cell_type": "markdown",
   "metadata": {},
   "source": [
    "### 3.2 Квадрат"
   ]
  },
  {
   "cell_type": "markdown",
   "metadata": {},
   "source": [
    "1. Згенеруйте $n = 10000$ значень випадкової величини $\\xi$;\n",
    "2. Реалізуйте 2 сабплоти в одному рядку;\n",
    "3. На першому сабплоті намалюйте:\n",
    "   - нормовану гістограму згенерованих $n = 10000$ значень випадкової величини $\\xi$;\n",
    "   - функцію щільності випадкової величини $\\xi$;\n",
    "4. Отримайте $n = 10000$ значень випадкової величини $\\eta = \\xi^2$ (застосуйте функцію модуль до згенерованих $n = 10000$ значень випадкової величини $\\xi$);\n",
    "5. На другому сабплоті намалюйте:\n",
    "   - нормовану гістограму отриманих $n = 10000$ значень випадкової величини $\\eta$;\n",
    "   - функцію щільності випадкової величини $\\xi$;\n",
    "   - функцію щільності випадкової величини $\\eta$."
   ]
  },
  {
   "cell_type": "code",
   "execution_count": 4,
   "metadata": {
    "collapsed": false,
    "scrolled": true
   },
   "outputs": [
    {
     "name": "stderr",
     "output_type": "stream",
     "text": [
      "/Users/semen/PycharmProjects/Analysys/venv/lib/python3.7/site-packages/ipykernel_launcher.py:8: RuntimeWarning: invalid value encountered in sqrt\n  \n"
     ]
    }
   ],
   "source": [
    "ksi = expon()\n",
    "x = np.arange(-1, 8, 0.1)\n",
    "fig, axs = plt.subplots(1,2, figsize=(10,10))\n",
    "axs[0].hist(ksi.rvs(100000),density=True, bins=200,rwidth=0.9)\n",
    "axs[0].plot(x, ksi.pdf(x),'r')\n",
    "\n",
    "eta_rvs = ksi.rvs(100000)**2\n",
    "eta = lambda x: np.exp(-np.sqrt(x))/ (2*x)\n",
    "\n",
    "axs[1].set_xlim([0,12])\n",
    "axs[1].hist(eta_rvs,density=True, bins=600,rwidth=0.9)\n",
    "axs[1].plot(x, ksi.pdf(x), 'r')\n",
    "axs[1].plot(x, eta(x), 'y')\n",
    "\n",
    "plt.show()\n"
   ]
  },
  {
   "cell_type": "markdown",
   "metadata": {},
   "source": [
    "## 4 Задача 1.11.5"
   ]
  },
  {
   "cell_type": "markdown",
   "metadata": {},
   "source": [
    "Розглянемо випадкову величину $\\xi$ зі стандартного рівномірного розподілу.\n",
    "Тобто $\\xi \\sim Unif(0, 1)$."
   ]
  },
  {
   "cell_type": "markdown",
   "metadata": {},
   "source": [
    "### 4.1 Лінійне перетворення"
   ]
  },
  {
   "cell_type": "markdown",
   "metadata": {},
   "source": [
    "1. Згенеруйте $n = 10000$ значень випадкової величини $\\xi$;\n",
    "2. Реалізуйте 2 сабплоти в одному рядку;\n",
    "3. На першому сабплоті намалюйте:\n",
    "   - нормовану гістограму згенерованих $n = 10000$ значень випадкової величини $\\xi$;\n",
    "   - функцію щільності випадкової величини $\\xi$;\n",
    "4. Отримайте $n = 10000$ значень випадкової величини $\\eta = 3 \\xi - 2$ (застосуйте функцію модуль до згенерованих $n = 10000$ значень випадкової величини $\\xi$);\n",
    "5. На другому сабплоті намалюйте:\n",
    "   - нормовану гістограму отриманих $n = 10000$ значень випадкової величини $\\eta$;\n",
    "   - функцію щільності випадкової величини $\\xi$;\n",
    "   - функцію щільності випадкової величини $\\eta$."
   ]
  },
  {
   "cell_type": "code",
   "execution_count": 3,
   "metadata": {
    "collapsed": false
   },
   "outputs": [],
   "source": [
    "\n",
    "# Місце для Вашого коду\n",
    "ksi = uniform(0,1)\n",
    "x = np.arange(0, 1, 0.01)\n",
    "\n",
    "fig, axs = plt.subplots(1,2, figsize=(10, 10))\n",
    "axs[0].hist(ksi.rvs(100000),density=True, bins=200, rwidth=0.9)\n",
    "axs[0].plot(x, ksi.pdf(x), 'r')\n",
    "\n",
    "eta_rvs = ksi.rvs(100000)*3 - 2\n",
    "eta = lambda x: 1/3\n",
    "\n",
    "axs[1].set_xlim([0,1])\n",
    "axs[1].hist(eta_rvs,density=True, bins=200,rwidth=0.9)\n",
    "axs[1].plot(x, ksi.pdf(x), 'r')\n",
    "axs[1].plot(x, list(map(eta,x)), 'y')\n",
    "\n",
    "plt.show()\n"
   ]
  },
  {
   "cell_type": "markdown",
   "metadata": {},
   "source": [
    "### 4.2 Модуль від лінійного перетворення"
   ]
  },
  {
   "cell_type": "markdown",
   "metadata": {},
   "source": [
    "1. Згенеруйте $n = 10000$ значень випадкової величини $\\xi$;\n",
    "2. Реалізуйте 2 сабплоти в одному рядку;\n",
    "3. На першому сабплоті намалюйте:\n",
    "   - нормовану гістограму згенерованих $n = 10000$ значень випадкової величини $\\xi$;\n",
    "   - функцію щільності випадкової величини $\\xi$;\n",
    "4. Отримайте $n = 10000$ значень випадкової величини $\\eta = |2 \\xi - 1|$ (застосуйте функцію модуль до згенерованих $n = 10000$ значень випадкової величини $\\xi$);\n",
    "5. На другому сабплоті намалюйте:\n",
    "   - нормовану гістограму отриманих $n = 10000$ значень випадкової величини $\\eta$;\n",
    "   - функцію щільності випадкової величини $\\xi$;\n",
    "   - функцію щільності випадкової величини $\\eta$."
   ]
  },
  {
   "cell_type": "code",
   "execution_count": 8,
   "metadata": {
    "collapsed": false
   },
   "outputs": [],
   "source": [
    "ksi = uniform(0,1)\n",
    "x = np.arange(0, 1, 0.01)\n",
    "\n",
    "fig, axs = plt.subplots(1,2, figsize=(10,10))\n",
    "axs[0].hist(ksi.rvs(100000),density=True, bins=60,rwidth=0.9)\n",
    "axs[0].plot(x, ksi.pdf(x),'r')\n",
    "\n",
    "axs[1].hist(np.abs(ksi.rvs(100000)*2-1),density=True, bins=60,rwidth=0.9)\n",
    "axs[1].plot(x, ksi.pdf(x), 'r')\n",
    "axs[1].plot(np.abs(2*x - 1), ksi.pdf((x + 1) / 2) + ksi.pdf(-(x + 1) / 2), 'y')\n",
    "\n",
    "plt.show()\n"
   ]
  },
  {
   "cell_type": "markdown",
   "metadata": {},
   "source": [
    "### 4.3 Логарифм"
   ]
  },
  {
   "cell_type": "markdown",
   "metadata": {},
   "source": [
    "1. Згенеруйте $n = 10000$ значень випадкової величини $\\xi$;\n",
    "2. Реалізуйте 2 сабплоти в одному рядку;\n",
    "3. На першому сабплоті намалюйте:\n",
    "   - нормовану гістограму згенерованих $n = 10000$ значень випадкової величини $\\xi$;\n",
    "   - функцію щільності випадкової величини $\\xi$;\n",
    "4. Отримайте $n = 10000$ значень випадкової величини $\\eta = - \\log \\xi$ (застосуйте функцію модуль до згенерованих $n = 10000$ значень випадкової величини $\\xi$);\n",
    "5. На другому сабплоті намалюйте:\n",
    "   - нормовану гістограму отриманих $n = 10000$ значень випадкової величини $\\eta$;\n",
    "   - функцію щільності випадкової величини $\\xi$;\n",
    "   - функцію щільності випадкової величини $\\eta$."
   ]
  },
  {
   "cell_type": "code",
   "execution_count": 9,
   "metadata": {
    "collapsed": false
   },
   "outputs": [
    {
     "name": "stderr",
     "output_type": "stream",
     "text": [
      "/Users/semen/PycharmProjects/Analysys/venv/lib/python3.7/site-packages/ipykernel_launcher.py:10: RuntimeWarning: divide by zero encountered in log\n  # Remove the CWD from sys.path while we load stuff.\n"
     ]
    }
   ],
   "source": [
    "ksi = uniform(0,1)\n",
    "x = np.arange(0, 1, 0.01)\n",
    "\n",
    "fig, axs = plt.subplots(1,2, figsize=(10,10))\n",
    "axs[0].hist(ksi.rvs(100000),density=True, bins=60,rwidth=0.9)\n",
    "axs[0].plot(x, ksi.pdf(x),'r')\n",
    "\n",
    "axs[1].hist(np.abs(-np.log(ksi.rvs(100000))),density=True, bins=60,rwidth=0.9)\n",
    "axs[1].plot(x, ksi.pdf(x), 'r')\n",
    "axs[1].plot(-np.log(x), x * ksi.pdf(np.exp(-x)), 'y')\n",
    "\n",
    "plt.show()\n"
   ]
  },
  {
   "cell_type": "markdown",
   "metadata": {},
   "source": [
    "## 5 Одиничний квадрат"
   ]
  },
  {
   "cell_type": "markdown",
   "metadata": {},
   "source": [
    "Реалізуйте вадкову величину рівномірно розподілену на одиничному квадраті.\n",
    "Тобто $\\xi = (x, y), \\quad x, y \\sim Unif(0, 1)$."
   ]
  },
  {
   "cell_type": "code",
   "execution_count": 11,
   "metadata": {
    "collapsed": true
   },
   "outputs": [],
   "source": [
    "# Місце для Вашого коду\n",
    "ksi = (uniform(0,1), uniform(0,1))\n"
   ]
  },
  {
   "cell_type": "markdown",
   "metadata": {},
   "source": [
    "Знайдіть функцію щільності випадкової величини $\\xi_1 = x^2 + y^2$.\n",
    "Намалюйте її разом із нормованою гістограмою $n = 100000$ значень випадкової величини $\\xi_1$,\n",
    "отриманою перетвореннями випадкових величин $x, y$."
   ]
  },
  {
   "cell_type": "code",
   "execution_count": 12,
   "metadata": {
    "collapsed": false
   },
   "outputs": [],
   "source": [
    "from scipy.stats import uniform\n",
    "\n",
    "random = uniform(0, 1).rvs(100_000) ** 2 + uniform(0, 1).rvs(100_000) ** 2\n",
    "x = np.arange(0, 2, 0.01)\n",
    "\n",
    "\n",
    "def ksi_1(x):\n",
    "    res = np.pi / 4 if 0 <= x <= 1 else 0\n",
    "    res += (np.pi / 4 - np.arccos(1 / np.sqrt(x)) + 1 / (2 * np.sqrt(x - 1))) if 1 < x <= 2 else 0\n",
    "    res -= 1 / (2 * np.sqrt(x - 1)) if 1 < x <= 2 else 0\n",
    "    return res\n",
    "\n",
    "\n",
    "plt.hist(random, bins=20, density=True, rwidth=0.9)\n",
    "plt.plot(x, list(map(ksi_1, x)), 'r')\n",
    "plt.show()\n"
   ]
  },
  {
   "cell_type": "markdown",
   "metadata": {},
   "source": [
    "Знайдіть функцію щільності випадкової величини $\\xi_2 = \\max (x, y)$.\n",
    "Намалюйте її разом із нормованою гістограмою $n = 100000$ значень випадкової величини $\\xi_2$,\n",
    "отриманою перетвореннями випадкових величин $x, y$."
   ]
  },
  {
   "cell_type": "code",
   "execution_count": 13,
   "metadata": {
    "collapsed": false
   },
   "outputs": [],
   "source": [
    "ksi = uniform(0,1)\n",
    "random = np.array([max(a, b) for a, b in zip(ksi.rvs(100000), ksi.rvs(100000))])\n",
    "x = np.arange(0, 1, 0.01)\n",
    "\n",
    "plt.hist(random, bins=30, density=True, rwidth=0.9)\n",
    "plt.plot(x, 2*x, 'r')\n",
    "plt.show()\n"
   ]
  },
  {
   "cell_type": "markdown",
   "metadata": {},
   "source": [
    "Знайдіть функцію щільності випадкової величини $\\xi_3 = |x - y|$.\n",
    "Намалюйте її разом із нормованою гістограмою $n = 100000$ значень випадкової величини $\\xi_3$,\n",
    "отриманою перетвореннями випадкових величин $x, y$."
   ]
  },
  {
   "cell_type": "code",
   "execution_count": 14,
   "metadata": {
    "collapsed": false
   },
   "outputs": [],
   "source": [
    "ksi = uniform(0,1)\n",
    "random = np.array([abs(a - b) for a, b in zip(ksi.rvs(100000), ksi.rvs(100_000))])\n",
    "x = np.arange(0, 1, 0.01)\n",
    "\n",
    "plt.hist(random, bins=30, density=True, rwidth=0.9)\n",
    "plt.plot(x, 2 - 2*x, 'r')\n",
    "plt.show()\n"
   ]
  },
  {
   "cell_type": "code",
   "execution_count": null,
   "metadata": {
    "collapsed": true
   },
   "outputs": [],
   "source": []
  }
 ],
 "metadata": {
  "kernelspec": {
   "display_name": "Python 3",
   "language": "python",
   "name": "python3"
  },
  "language_info": {
   "codemirror_mode": {
    "name": "ipython",
    "version": 3
   },
   "file_extension": ".py",
   "mimetype": "text/x-python",
   "name": "python",
   "nbconvert_exporter": "python",
   "pygments_lexer": "ipython3",
   "version": "3.6.1"
  }
 },
 "nbformat": 4,
 "nbformat_minor": 0
}
