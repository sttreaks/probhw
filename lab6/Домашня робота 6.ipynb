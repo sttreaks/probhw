{
 "cells": [
  {
   "cell_type": "markdown",
   "metadata": {},
   "source": [
    "# Домашня робота №6"
   ]
  },
  {
   "cell_type": "markdown",
   "metadata": {},
   "source": [
    "# Математичне сподівання та дисперсія"
   ]
  },
  {
   "cell_type": "markdown",
   "metadata": {},
   "source": [
    "## 1 Порівняння"
   ]
  },
  {
   "cell_type": "markdown",
   "metadata": {},
   "source": [
    "1. Реалізуйте функцію для підрахунку математичного сподівання випадкової величини $\\xi$, заданої в класі **scipy.stats**, усіма можливими способами:\n",
    "   - за допомогою методу **mean**;\n",
    "   - за допомогою методу **expect**;\n",
    "   - за допомогою методу **stats**.\n",
    "\n",
    "2. Реалізуйте функцію для підрахунку дисперсії випадкової величини $\\xi$, заданої в класі **scipy.stats**, усіма можливими способами:\n",
    "   - за допомогою методу **var**;\n",
    "   - за допомогою методу **expect** та формули для дисперсії \n",
    "$\\mathsf{D}(\\xi) = \\mathsf{E} \\left[ \\left( \\xi - \\mathsf{E}[\\xi] \\right)^2 \\right]$;\n",
    "   - за допомогою методу **expect** та формули для дисперсії\n",
    "$\\mathsf{D}(\\xi) = \\mathsf{E}[\\xi^2] - \\left( \\mathsf{E}[\\xi] \\right)^2$;\n",
    "   - за допомогою методу **stats**.\n",
    "\n",
    "3. Порахуйте математичне сподівання та дисперсію, використовуючи функції з пунктів **1., 2.**, і порівняйте (виведіть різницю) їх із теоретичними значеннями, використовуючи формули з лекцій, для таких випадкових величин:\n",
    "   - $\\xi \\sim Binom(10, 0.4)$ (біноміальний розподіл);\n",
    "   - $\\xi \\sim Geom(0.5)$ (геометричний розподіл);\n",
    "   - $\\xi \\sim Pois(0.6)$ (розподіл Пуассона);\n",
    "   - $\\xi \\sim NBinom(5, 0.4)$ (від'ємний біноміальний розподіл);\n",
    "   - $\\xi \\sim HGeom(20, 7, 12)$ (гіпергеометричний розподіл);\n",
    "   - $\\xi \\sim Unif(0, 1)$ (рівномірний розподіл);\n",
    "   - $\\xi \\sim Exp(0.5)$ (експоненційний (показниковий) розподіл);\n",
    "   - $\\xi \\sim N(0, 1)$ (нормальний розподіл);\n",
    "   - $\\xi \\sim \\Gamma(2)$ (гамма розподіл);\n",
    "   - $\\xi \\sim LogNorm(0, 1)$ (логнормальний розподіл);\n",
    "   - $\\xi \\sim B(2, 1.1)$ (бета розподіл)."
   ]
  },
  {
   "cell_type": "code",
   "execution_count": 1,
   "metadata": {
    "collapsed": true
   },
   "outputs": [
    {
     "name": "stdout",
     "output_type": "stream",
     "text": [
      "\n===  binom(10,0.4)  ===\n\nexpectation: {'mean': 4.0, 'expect': 4.0000000000000036, 'stats': array(4.)}\n\ntheoretic expectations: 4.0\n\nsubstract expectation: [0.0, 3.552713678800501e-15, 0.0]\n\ndispersion: {'var': 2.4, 'expect1': 2.4000000000000012, 'expect2': 2.399999999999995, 'stats': array(2.4)}\n\ntheoretic dispersion: 2.4\n\nsubstract dispersion: [0.0, 1.3322676295501878e-15, 4.884981308350689e-15, 0.0]\n\n\n\n===  geom(0.5)  ===\n\nexpectation: {'mean': 2.0, 'expect': 2.0, 'stats': array(2.)}\n\ntheoretic expectations: 2.0\n\nsubstract expectation: [0.0, 0.0, 0.0]\n\ndispersion: {'var': 2.0, 'expect1': 2.0, 'expect2': 2.0, 'stats': array(2.)}\n\ntheoretic dispersion: 2.0\n\nsubstract dispersion: [0.0, 0.0, 0.0, 0.0]\n\n\n\n===  poisson(0.6)  ===\n\nexpectation: {'mean': 0.6, 'expect': 0.6, 'stats': array(0.6)}\n\ntheoretic expectations: 0.6\n\nsubstract expectation: [0.0, 0.0, 0.0]\n\ndispersion: {'var': 0.6, 'expect1': 0.5999999999999999, 'expect2': 0.6, 'stats': array(0.6)}\n\ntheoretic dispersion: 0.6\n\nsubstract dispersion: [0.0, 1.1102230246251565e-16, 0.0, 0.0]\n\n\n\n===  nbinom(5,0.4)  ===\n\nexpectation: {'mean': 7.5, 'expect': 7.500000000000006, 'stats': array(7.5)}\n\ntheoretic expectations: 7.5\n\nsubstract expectation: [0.0, 6.217248937900877e-15, 0.0]\n\ndispersion: {'var': 18.75, 'expect1': 18.750000000000007, 'expect2': 18.749999999999964, 'stats': array(18.75)}\n\ntheoretic dispersion: 18.749999999999996\n\nsubstract dispersion: [3.552713678800501e-15, 1.0658141036401503e-14, 3.197442310920451e-14, 3.552713678800501e-15]\n\n\n\n===  hypergeom(20,7,12)  ===\n\nexpectation: {'mean': 4.199999999999999, 'expect': 4.199999999999995, 'stats': array(4.2)}\n\ntheoretic expectations: 4.2\n\nsubstract expectation: [8.881784197001252e-16, 5.329070518200751e-15, 8.881784197001252e-16]\n\ndispersion: {'var': 1.1494736842105264, 'expect1': 1.1494736842105246, 'expect2': 1.149473684210541, 'stats': array(1.14947368)}\n\ntheoretic dispersion: 1.1494736842105264\n\nsubstract dispersion: [0.0, 1.7763568394002505e-15, 1.4654943925052066e-14, 0.0]\n\n\n\n===  uniform(0,1)  ===\n\nexpectation: {'mean': 0.5, 'expect': 0.5, 'stats': array(0.5)}\n\ntheoretic expectations: 0.5\n\nsubstract expectation: [0.0, 0.0, 0.0]\n\ndispersion: {'var': 0.08333333333333333, 'expect1': 0.08333333333333333, 'expect2': 0.08333333333333337, 'stats': array(0.08333333)}\n\ntheoretic dispersion: 1.0\n\nsubstract dispersion: [0.9166666666666666, 0.9166666666666666, 0.9166666666666666, 0.9166666666666666]\n\n\n\n===  expon(0.5)  ===\n\nexpectation: {'mean': 1.5, 'expect': 1.4999999999999996, 'stats': array(1.5)}\n\ntheoretic expectations: 2.0\n\nsubstract expectation: [0.5, 0.5000000000000004, 0.5]\n\n"
     ]
    },
    {
     "name": "stdout",
     "output_type": "stream",
     "text": [
      "dispersion: {'var': 1.0, 'expect1': 1.0, 'expect2': 1.0000000000000018, 'stats': array(1.)}\n\ntheoretic dispersion: 4.0\n\nsubstract dispersion: [3.0, 3.0, 2.9999999999999982, 3.0]\n\n\n\n===  norm(0,1)  ===\n\nexpectation: {'mean': 0.0, 'expect': 0.0, 'stats': array(0.)}\n\ntheoretic expectations: 0\n\nsubstract expectation: [0.0, 0.0, 0.0]\n\n"
     ]
    },
    {
     "name": "stdout",
     "output_type": "stream",
     "text": [
      "dispersion: {'var': 1.0, 'expect1': 1.000000000000001, 'expect2': 1.000000000000001, 'stats': array(1.)}\n\ntheoretic dispersion: 1\n\nsubstract dispersion: [0.0, 1.1102230246251565e-15, 1.1102230246251565e-15, 0.0]\n\n\n\n===  gamma(2)  ===\n\nexpectation: {'mean': 2.0, 'expect': 2.0, 'stats': array(2.)}\n\ntheoretic expectations: 2\n\nsubstract expectation: [0.0, 0.0, 0.0]\n\n"
     ]
    },
    {
     "name": "stdout",
     "output_type": "stream",
     "text": [
      "dispersion: {'var': 2.0, 'expect1': 2.0000000000000004, 'expect2': 2.0, 'stats': array(2.)}\n\ntheoretic dispersion: 2\n\nsubstract dispersion: [0.0, 4.440892098500626e-16, 0.0, 0.0]\n\n\n\n===  lognorm(0,1)  ===\n\nexpectation: {'mean': 1.6487212707001282, 'expect': 1.6487212706999776, 'stats': array(1.64872127)}\n\ntheoretic expectations: 1.6487212707001282\n\nsubstract expectation: [0.0, 1.5054624213917123e-13, 0.0]\n\n"
     ]
    },
    {
     "name": "stdout",
     "output_type": "stream",
     "text": [
      "dispersion: {'var': 4.670774270471604, 'expect1': 4.670774270452187, 'expect2': 4.670774270429307, 'stats': array(4.67077427)}\n\ntheoretic dispersion: 4.670774270471604\n\nsubstract dispersion: [0.0, 1.9417356611484138e-11, 4.2296832702959364e-11, 0.0]\n\n\n\n===  beta(2,1.1)  ===\n\nexpectation: {'mean': 0.6451612903225806, 'expect': 0.6451612903225803, 'stats': array(0.64516129)}\n\ntheoretic expectations: 0.6451612903225806\n\nsubstract expectation: [0.0, 3.3306690738754696e-16, 0.0]\n\n"
     ]
    },
    {
     "name": "stdout",
     "output_type": "stream",
     "text": [
      "dispersion: {'var': 0.05583614629070329, 'expect1': 0.055836146290680275, 'expect2': 0.05583614629070349, 'stats': array(0.05583615)}\n\ntheoretic dispersion: 0.055836146290703284\n\nsubstract dispersion: [6.938893903907228e-18, 2.300937218535637e-14, 2.0816681711721685e-16, 6.938893903907228e-18]\n\n\n"
     ]
    }
   ],
   "source": [
    "import scipy.stats\n",
    "import numpy as np\n",
    "from scipy.stats import binom, geom, poisson, nbinom, hypergeom, uniform, expon, norm, gamma, lognorm, beta\n",
    "\n",
    "\n",
    "def expectation(xi: scipy.stats):\n",
    "    return xi.mean(), xi.expect(), xi.stats()[0]\n",
    "\n",
    "\n",
    "def dispersion(xi: scipy.stats):\n",
    "    return xi.var(), xi.expect(lambda x: (x - xi.expect())**2), xi.expect(lambda x: x**2) - xi.expect()**2, xi.stats()[1]\n",
    "\n",
    "xi_list = binom(10, 0.4), geom(0.5), poisson(0.6), nbinom(5, 0.4), hypergeom(20, 7, 12), uniform(0, 1), expon(0.5), norm(0, 1), gamma(2), lognorm(s=1, loc=0, scale=1), beta(2, 1.1)\n",
    "name_list = 'binom(10,0.4) geom(0.5) poisson(0.6) nbinom(5,0.4) hypergeom(20,7,12) uniform(0,1) expon(0.5) norm(0,1) gamma(2) lognorm(0,1) beta(2,1.1)'\n",
    "name_list = name_list.split(' ')\n",
    "\n",
    "\n",
    "theor_expect = (\n",
    "    10 * 0.4, # E = n * p\n",
    "    1 / 0.5,  # E = 1 / p\n",
    "    0.6,  # E = lambda\n",
    "    (5 * (1 - 0.4))/ 0.4,  # E = (k * (1-p))/ p\n",
    "    (7 * 12) / 20, # E = (nm) / N\n",
    "    (0 + 1) / 2,  # E = (a + b) /2\n",
    "    1 / 0.5,  # E = 1 / lambda\n",
    "    0,  # E = 0\n",
    "    2,  # E = k\n",
    "    np.exp(0 + 1/2),  # E = e ^ (mu + sig^2/2)\n",
    "    2 / (2 + 1.1), # E = alpha / (alpha + beta)   \n",
    ")\n",
    "\n",
    "theor_disper = (\n",
    "    10 * 0.4 * (1 - 0.4),  # D = n * p * (1-p)\n",
    "    (1 - 0.5) / (0.5) ** 2, # D = (1 - p) / p^2\n",
    "    0.6,  # D = lambda\n",
    "    (5 * (1 - 0.4)) / (0.4) ** 2, # D = (k(1-p))/p^2\n",
    "    (7 * 12 * (20 - 7) * (20 - 12)) / (20 ** 2 * (20 - 1)), # D = (nm(N-n)(N-m)) / (N^2(N-1))\n",
    "    1 / (1 - 0),  # D = 1 / (b - 1)\n",
    "    1 / 0.5 ** 2, # D = 1 / lambda**2\n",
    "    1,  # D = 1\n",
    "    2,  # E = k\n",
    "    (np.exp(1) - 1) * np.exp(2 * 0 + 1),  # D = (e^(sig^2) - 1)e^(2mu + sig^2)\n",
    "    (2 * 1.1) / (((2 + 1.1) ** 2) * (2 + 1.1 + 1)) \n",
    ")\n",
    "\n",
    "ind = 0\n",
    "for xi in xi_list:\n",
    "    print('\\n=== ', name_list[ind], ' ===\\n')\n",
    "\n",
    "    exp_keys = 'mean', 'expect', 'stats'\n",
    "    dis_keys = 'var', 'expect1', 'expect2', 'stats'\n",
    "    dict = {}\n",
    "    \n",
    "    \n",
    "    exp_val = expectation(xi)\n",
    "    for i in range(3):\n",
    "        dict.update({exp_keys[i]: exp_val[i]})\n",
    "    \n",
    "    print(f'expectation: {dict}\\n')\n",
    "    print(f'theoretic expectations: {theor_expect[ind]}\\n')\n",
    "    print(f'substract expectation: {[abs(theor_expect[ind] - i) for i in dict.values()]}\\n')\n",
    "    \n",
    "    dict = {}\n",
    "    \n",
    "    dis_val = dispersion(xi)\n",
    "    for i in range(4):\n",
    "        dict.update({dis_keys[i]: dis_val[i]})\n",
    "        \n",
    "    print(f'dispersion: {dict}\\n')\n",
    "    \n",
    "    print(f'theoretic dispersion: {theor_disper[ind]}\\n')\n",
    "    \n",
    "    print(f'substract dispersion: {[abs(theor_disper[ind] - i) for i in dict.values()]}\\n\\n')\n",
    "    \n",
    "    ind += 1\n"
   ]
  },
  {
   "cell_type": "markdown",
   "metadata": {},
   "source": [
    "## 2 Унікальні цифри"
   ]
  },
  {
   "cell_type": "markdown",
   "metadata": {},
   "source": [
    "Нехай випадковим чином вибирають послідовно $n$ цифр (цифри можуть повторюватися, вибірка з поверненням).\n",
    "Нехай тоді випадкова величина $\\xi$ - це кількість унікальних цифр в отриманому наборі.\n",
    "\n",
    "Напишіть функцію для обрахунку математичного сподівання та дисперсії випадкової величини $\\xi$ в залежності від кількості $n$ цифр у наборі методом повного перебору.\n",
    "Виведіть результат для $n = 1, 2, 3, 4, 5, 6, 7.$"
   ]
  },
  {
   "cell_type": "code",
   "execution_count": 3,
   "metadata": {
    "collapsed": true
   },
   "outputs": [],
   "source": [
    "from itertools import product\n",
    "\n",
    "\n",
    "def expectation(pk, xk):\n",
    "    return sum(a * b for a, b in zip(pk, xk))\n",
    "\n",
    "def dispersion(pk, xk):\n",
    "    return expectation(pk, (xk - expectation(pk, xk))**2)\n",
    "\n",
    "def xi(n):\n",
    "    return len(set([randint(0, 10) for _ in range(n)]))\n"
   ]
  },
  {
   "cell_type": "markdown",
   "metadata": {},
   "source": [
    "## 3 Максимальне значення"
   ]
  },
  {
   "cell_type": "markdown",
   "metadata": {},
   "source": [
    "Нехай випадкова величина $\\xi$ - це максимальне значення після $n$ кидків грального кубика.\n",
    "\n",
    "Напишіть функцію для обрахунку математичного сподівання та дисперсії випадкової величини $\\xi$ в залежності від кількості $n$ кидків кубика методом повного перебору.\n",
    "Виведіть результат для $n = 1, 2, 3, 4, 5, 6, 7, 8, 9.$\n",
    "\n",
    "Напишіть теоретичну формулу для математичного сподівання та дисперсії випадкової величини $\\xi$.\n",
    "Порівняйте теоретичні значення з обчисленими повним перебором."
   ]
  },
  {
   "cell_type": "code",
   "execution_count": 4,
   "metadata": {
    "collapsed": true
   },
   "outputs": [
    {
     "name": "stdout",
     "output_type": "stream",
     "text": [
      "n = 1 empiric = (3.5, 2.9166666666666665), theoretic = (3.5, 2.9166666666666665)\n\nn = 2 empiric = (4.472222222222222, 1.9714506172839505), theoretic = (4.472222222222222, 1.9714506172839505)\n\nn = 3 empiric = (4.958333333333333, 1.3084490740740742), theoretic = (4.958333333333333, 1.3084490740740742)\n\nn = 4 empiric = (5.244598765432099, 0.9100788513565005), theoretic = (5.244598765432099, 0.9100788513565005)\n\nn = 5 empiric = (5.4309413580246915, 0.6593255541742875), theoretic = (5.4309413580246915, 0.6593255541742875)\n\nn = 6 empiric = (5.560292352537722, 0.4928497430622296), theoretic = (5.560292352537722, 0.4928497430622296)\n\n"
     ]
    },
    {
     "name": "stdout",
     "output_type": "stream",
     "text": [
      "n = 7 empiric = (5.6541173696845, 0.377325225479044), theoretic = (5.6541173696845, 0.377325225479044)\n\n"
     ]
    },
    {
     "name": "stdout",
     "output_type": "stream",
     "text": [
      "n = 8 empiric = (5.724354257163542, 0.29424630964894327), theoretic = (5.724354257163542, 0.29424630964894327)\n\n"
     ]
    },
    {
     "name": "stdout",
     "output_type": "stream",
     "text": [
      "n = 9 empiric = (5.778176976165981, 0.23276028509144198), theoretic = (5.778176976165981, 0.23276028509144198)\n\n"
     ]
    }
   ],
   "source": [
    "def max_empiric(n):\n",
    "    xi = np.zeros(7)\n",
    "    xk = range(1, 7)\n",
    "    tests = product(xk, repeat=n)\n",
    "    for tmp in tests:\n",
    "        xi[max(tmp)] += 1\n",
    "    pk = xi[1:] / 6**n\n",
    "    expect = expectation(pk, xk)\n",
    "    disp = dispersion(pk, xk)\n",
    "    res = expect, disp\n",
    "    return res\n",
    "\n",
    "\n",
    "def max_theoretic(n):\n",
    "    xk = range(1, 7)\n",
    "    pk = np.zeros(6)\n",
    "    for s in range(1, 7):\n",
    "        pk[s-1] = s**n - (s - 1)**n\n",
    "    pk = pk / 6**n\n",
    "    expect = expectation(pk, xk)\n",
    "    disp = dispersion(pk, xk)\n",
    "    res = expect, disp\n",
    "    return res\n",
    "\n",
    "\n",
    "for n in range(1, 10):\n",
    "    r1 = max_empiric(n)\n",
    "    r2 = max_theoretic(n)\n",
    "    print(f'n = {n} empiric = {r1}, theoretic = {r2}\\n')\n"
   ]
  },
  {
   "cell_type": "markdown",
   "metadata": {},
   "source": [
    "## 4 Сума значень"
   ]
  },
  {
   "cell_type": "markdown",
   "metadata": {},
   "source": [
    "Нехай випадкова величина $\\xi$ - це сума значень після $n$ кидків грального кубика (сума цифр, що випали).\n",
    "\n",
    "Напишіть функцію для обрахунку математичного сподівання та дисперсії випадкової величини $\\xi$ в залежності від кількості $n$ кидків кубика методом повного перебору.\n",
    "Виведіть результат для $n = 1, 2, 3, 5, 7, 8.$\n",
    "\n",
    "Напишіть теоретичну формулу для математичного сподівання та дисперсії випадкової величини $\\xi$.\n",
    "Порівняйте теоретичні значення з обчисленими повним перебором."
   ]
  },
  {
   "cell_type": "code",
   "execution_count": 6,
   "metadata": {
    "collapsed": true
   },
   "outputs": [
    {
     "name": "stdout",
     "output_type": "stream",
     "text": [
      "n = 1 empiric = (3.5, 2.9166666666666665), theoretic = (3.5, 2.9166666666666665)\n\nn = 2 empiric = (4.472222222222222, 1.9714506172839505), theoretic = (4.472222222222222, 1.9714506172839505)\n\nn = 3 empiric = (4.958333333333333, 1.3084490740740742), theoretic = (4.958333333333333, 1.3084490740740742)\n\nn = 4 empiric = (5.244598765432099, 0.9100788513565005), theoretic = (5.244598765432099, 0.9100788513565005)\n\nn = 5 empiric = (5.4309413580246915, 0.6593255541742875), theoretic = (5.4309413580246915, 0.6593255541742875)\n\nn = 6 empiric = (5.560292352537722, 0.4928497430622296), theoretic = (5.560292352537722, 0.4928497430622296)\n\n"
     ]
    },
    {
     "name": "stdout",
     "output_type": "stream",
     "text": [
      "n = 7 empiric = (5.6541173696845, 0.377325225479044), theoretic = (5.6541173696845, 0.377325225479044)\n\n"
     ]
    },
    {
     "name": "stdout",
     "output_type": "stream",
     "text": [
      "n = 8 empiric = (5.724354257163542, 0.29424630964894327), theoretic = (5.724354257163542, 0.29424630964894327)\n\n"
     ]
    }
   ],
   "source": [
    "def sum_empiric(n):\n",
    "    xk = np.arange(0, 6*n + 1)\n",
    "    pk = np.zeros(6*n + 1)\n",
    "    s = product(range(1, 7), repeat=n)\n",
    "    for k in s:\n",
    "        pk[sum(k)] += 1\n",
    "    pk /= 6**n\n",
    "    \n",
    "    expect = expectation(pk, xk)\n",
    "    disp = dispersion(pk, xk)\n",
    "    res = expect, disp\n",
    "    return res\n",
    "\n",
    "def sum_theoretic(n):\n",
    "    xk = np.arange(7)[1:]\n",
    "    pk = np.zeros(6) + 1/6\n",
    "    expect = expectation(pk, xk)\n",
    "    disp = dispersion(pk, xk)\n",
    "    res = expect, disp\n",
    "    return res\n",
    "\n",
    "for n in range(1, 9):\n",
    "    r1 = max_empiric(n)\n",
    "    r2 = max_theoretic(n)\n",
    "    print(f'n = {n} empiric = {r1}, theoretic = {r2}\\n')\n"
   ]
  },
  {
   "cell_type": "markdown",
   "metadata": {},
   "source": [
    "## 5 Парадокс днів народження"
   ]
  },
  {
   "cell_type": "markdown",
   "metadata": {},
   "source": [
    "Нехай маємо $n$ людей.\n",
    "Їх дні народження припадають на один з 12 місяців.\n",
    "Нехай тоді випадкова величина $\\xi$ - це кількість співпадінь місяців народжень серед цих $n$ людей.\n",
    "\n",
    "Напишіть функцію для обрахунку математичного сподівання та дисперсії випадкової величини $\\xi$ в залежності від кількості $n$ людей методом повного перебору.\n",
    "Виведіть результат для $n = 1, 2, 3, 4, 5, 6.$\n",
    "\n",
    "Для якого $n$ виконується $\\mathsf{E}\\left[ \\xi \\right] \\geq 1$?\n",
    "\n",
    "**Зауваження.** Кількість співпадінь означає кількість однакових пар. Наприклад,\n",
    "- у наборі $\\{ 1, 1, 2, 3 \\}$ є одна пара;\n",
    "- у наборі $\\{ 1, 1, 1, 3 \\}$ є три пари;\n",
    "- у наборі $\\{ 1, 1, 1, 1 \\}$ є шість пар."
   ]
  },
  {
   "cell_type": "code",
   "execution_count": 5,
   "metadata": {
    "collapsed": true
   },
   "outputs": [],
   "source": [
    "# Місце для Вашого коду\n",
    "\n"
   ]
  }
 ],
 "metadata": {
  "kernelspec": {
   "display_name": "Python 3",
   "language": "python",
   "name": "python3"
  },
  "language_info": {
   "codemirror_mode": {
    "name": "ipython",
    "version": 3
   },
   "file_extension": ".py",
   "mimetype": "text/x-python",
   "name": "python",
   "nbconvert_exporter": "python",
   "pygments_lexer": "ipython3",
   "version": "3.6.1"
  }
 },
 "nbformat": 4,
 "nbformat_minor": 0
}
