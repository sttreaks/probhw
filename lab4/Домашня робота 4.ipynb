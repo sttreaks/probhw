{
 "cells": [
  {
   "cell_type": "markdown",
   "metadata": {},
   "source": [
    "# Домашня робота №4"
   ]
  },
  {
   "cell_type": "markdown",
   "metadata": {},
   "source": [
    "# Дискретні розподіли"
   ]
  },
  {
   "cell_type": "code",
   "execution_count": 2,
   "metadata": {
    "collapsed": true
   },
   "outputs": [],
   "source": [
    "import numpy as np\n",
    "import matplotlib.pyplot as plt"
   ]
  },
  {
   "cell_type": "markdown",
   "metadata": {},
   "source": [
    "## 1 Від'ємний біноміальний розподіл"
   ]
  },
  {
   "cell_type": "markdown",
   "metadata": {},
   "source": [
    "Більш детальна інформація в [документації](https://docs.scipy.org/doc/scipy/reference/generated/scipy.stats.nbinom.html)."
   ]
  },
  {
   "cell_type": "code",
   "execution_count": 7,
   "metadata": {
    "collapsed": true
   },
   "outputs": [],
   "source": [
    "from scipy.stats import nbinom"
   ]
  },
  {
   "cell_type": "code",
   "execution_count": 9,
   "metadata": {
    "collapsed": true
   },
   "outputs": [],
   "source": [
    "n = 5\n",
    "p = 0.4"
   ]
  },
  {
   "cell_type": "markdown",
   "metadata": {},
   "source": [
    "### 1.1 Щільність"
   ]
  },
  {
   "cell_type": "code",
   "execution_count": 10,
   "metadata": {
    "collapsed": true
   },
   "outputs": [],
   "source": [
    "x = np.arange(-0.5, n*5+1, 0.5)"
   ]
  },
  {
   "cell_type": "markdown",
   "metadata": {},
   "source": [
    "Виведіть значення функції щільності від'ємного біноміального розподілу з параметрами $n, p$ в точках вектора $x$."
   ]
  },
  {
   "cell_type": "code",
   "execution_count": 15,
   "metadata": {
    "collapsed": false
   },
   "outputs": [
    {
     "name": "stdout",
     "output_type": "stream",
     "text": [
      "[0.         0.01024    0.         0.03072    0.         0.055296\n 0.         0.0774144  0.         0.09289728 0.         0.10032906\n 0.         0.10032906 0.         0.09459597 0.         0.08513638\n 0.         0.07378486 0.         0.06197928 0.         0.05071032\n 0.         0.04056826 0.         0.03183048 0.         0.02455494\n 0.         0.01866175 0.         0.01399632 0.         0.01037374\n 0.         0.00760741 0.         0.00552538 0.         0.00397827\n 0.         0.00284162 0.         0.00201497 0.         0.00141924\n 0.         0.00099347 0.         0.00069145 0.        ]\n"
     ]
    }
   ],
   "source": [
    "nb_pmf = nbinom.pmf(x, n, p)\n",
    "print(nb_pmf)\n"
   ]
  },
  {
   "cell_type": "markdown",
   "metadata": {},
   "source": [
    "Зобразіть графічно значення функції щільності від'ємного біноміального розподілу з параметрами $n, p$ в точках вектора $x$."
   ]
  },
  {
   "cell_type": "code",
   "execution_count": 18,
   "metadata": {
    "collapsed": false,
    "scrolled": true
   },
   "outputs": [],
   "source": [
    "plt.stem(nb_pmf)\n",
    "plt.show()"
   ]
  },
  {
   "cell_type": "markdown",
   "metadata": {},
   "source": [
    "Зобразіть графічно значення функції щільності від'ємного біноміального розподілу з параметрами $n, p$ в точках вектора $x1$."
   ]
  },
  {
   "cell_type": "code",
   "execution_count": 19,
   "metadata": {
    "collapsed": true
   },
   "outputs": [],
   "source": [
    "x1 = np.arange(0, n*5+1)"
   ]
  },
  {
   "cell_type": "code",
   "execution_count": 21,
   "metadata": {
    "collapsed": false
   },
   "outputs": [],
   "source": [
    "plt.stem(nbinom.pmf(x1, n, p))\n",
    "plt.show()"
   ]
  },
  {
   "cell_type": "markdown",
   "metadata": {},
   "source": [
    "### 1.2 Функція розподілу"
   ]
  },
  {
   "cell_type": "markdown",
   "metadata": {},
   "source": [
    "Виведіть значення функції розподілу від'ємного біноміального розподілу з параметрами $n, p$ в точках вектора $x$."
   ]
  },
  {
   "cell_type": "code",
   "execution_count": 22,
   "metadata": {
    "collapsed": false
   },
   "outputs": [
    {
     "name": "stdout",
     "output_type": "stream",
     "text": [
      "[0.         0.01024    0.01024    0.04096    0.04096    0.096256\n 0.096256   0.1736704  0.1736704  0.26656768 0.26656768 0.36689674\n 0.36689674 0.4672258  0.4672258  0.56182178 0.56182178 0.64695815\n 0.64695815 0.72074301 0.72074301 0.78272229 0.78272229 0.83343262\n 0.83343262 0.87400087 0.87400087 0.90583135 0.90583135 0.93038629\n 0.93038629 0.94904805 0.94904805 0.96304436 0.96304436 0.9734181\n 0.9734181  0.98102551 0.98102551 0.98655089 0.98655089 0.99052917\n 0.99052917 0.99337079 0.99337079 0.99538576 0.99538576 0.996805\n 0.996805   0.99779847 0.99779847 0.99848993 0.99848993]\n"
     ]
    }
   ],
   "source": [
    "nb_cdf = nbinom.cdf(x, n, p)\n",
    "print(nb_cdf)\n"
   ]
  },
  {
   "cell_type": "markdown",
   "metadata": {},
   "source": [
    "Зобразіть графічно значення функції розподілу від'ємного біноміального розподілу з параметрами $n, p$ в точках вектора $x$."
   ]
  },
  {
   "cell_type": "code",
   "execution_count": 25,
   "metadata": {
    "collapsed": false
   },
   "outputs": [],
   "source": [
    "plt.stem(nb_cdf)\n",
    "plt.show()"
   ]
  },
  {
   "cell_type": "markdown",
   "metadata": {},
   "source": [
    "### 1.3 Випадкові величини"
   ]
  },
  {
   "cell_type": "markdown",
   "metadata": {},
   "source": [
    "Згенеруйте $100$ випадкових величин з від'ємного біноміального розподілу з параметрами $n, p$."
   ]
  },
  {
   "cell_type": "code",
   "execution_count": 28,
   "metadata": {
    "collapsed": false
   },
   "outputs": [
    {
     "name": "stdout",
     "output_type": "stream",
     "text": [
      "[ 7  7 10 12 10 12  2 10 11  7  1 11  8  7  8 14 12  7  5 22  4  2  6  8\n  9 11  2 18  8  6  6  6  9  7  2  3  6  8  8 12  3  9  6  6  2  5  3  9\n 13 15  6  4  1  6  8 14  2  7 11  4  2  2  4 12  6  7 10  5  2 12  5  5\n  7  5 19  6 15 10  3  2 10 11  8  4  7  3  5 17  8  1  4  6 16  9  3  8\n  7 13 13  6]\n"
     ]
    }
   ],
   "source": [
    "nb_rvs = nbinom.rvs(n, p, size=100)\n",
    "print(nb_rvs)\n"
   ]
  },
  {
   "cell_type": "markdown",
   "metadata": {},
   "source": [
    "Виведіть кількість кожного елемента в отриманому випадковому векторі."
   ]
  },
  {
   "cell_type": "code",
   "execution_count": 35,
   "metadata": {
    "collapsed": false
   },
   "outputs": [
    {
     "name": "stdout",
     "output_type": "stream",
     "text": [
      "item = 1, count = 3\nitem = 2, count = 10\nitem = 3, count = 6\nitem = 4, count = 6\nitem = 5, count = 7\nitem = 6, count = 13\nitem = 7, count = 11\nitem = 8, count = 10\nitem = 9, count = 5\nitem = 10, count = 6\nitem = 11, count = 5\nitem = 12, count = 6\nitem = 13, count = 3\nitem = 14, count = 2\nitem = 15, count = 2\nitem = 16, count = 1\nitem = 17, count = 1\nitem = 18, count = 1\nitem = 19, count = 1\nitem = 22, count = 1\n"
     ]
    }
   ],
   "source": [
    "for item in set(nb_rvs):\n",
    "    print(f'item = {item}, count = {list(nb_rvs).count(item)}')\n"
   ]
  },
  {
   "cell_type": "markdown",
   "metadata": {},
   "source": [
    "Зобразіть графічно кількість кожного елемента в отриманому випадковому векторі."
   ]
  },
  {
   "cell_type": "code",
   "execution_count": 36,
   "metadata": {
    "collapsed": false,
    "scrolled": true
   },
   "outputs": [],
   "source": [
    "plt.hist(nb_rvs)\n",
    "plt.show()\n"
   ]
  },
  {
   "cell_type": "markdown",
   "metadata": {},
   "source": [
    "## 2 Гіпергеометричний розподіл"
   ]
  },
  {
   "cell_type": "markdown",
   "metadata": {},
   "source": [
    "Більш детальна інформація в [документації](https://docs.scipy.org/doc/scipy/reference/generated/scipy.stats.hypergeom.html)."
   ]
  },
  {
   "cell_type": "code",
   "execution_count": 37,
   "metadata": {
    "collapsed": true
   },
   "outputs": [],
   "source": [
    "from scipy.stats import hypergeom"
   ]
  },
  {
   "cell_type": "code",
   "execution_count": 38,
   "metadata": {
    "collapsed": true
   },
   "outputs": [],
   "source": [
    "M = 20\n",
    "n = 7\n",
    "N = 12"
   ]
  },
  {
   "cell_type": "markdown",
   "metadata": {},
   "source": [
    "### 2.1 Щільність"
   ]
  },
  {
   "cell_type": "markdown",
   "metadata": {
    "collapsed": true
   },
   "source": [
    "x = np.arange(max(0, N-M+n)-0.5, min(n, N)+1, 0.5)"
   ]
  },
  {
   "cell_type": "markdown",
   "metadata": {},
   "source": [
    "Виведіть значення функції щільності гіпергеометричного розподілу з параметрами $M, n, N$ в точках вектора $x$."
   ]
  },
  {
   "cell_type": "markdown",
   "metadata": {
    "collapsed": false
   },
   "source": [
    "h_pmf = hypergeom.pmf(x, M, n, N)\n",
    "print(h_pmf)\n"
   ]
  },
  {
   "cell_type": "markdown",
   "metadata": {},
   "source": [
    "Зобразіть графічно значення функції щільності гіпергеометричного розподілу з параметрами $M, n, N$ в точках вектора $x$."
   ]
  },
  {
   "cell_type": "code",
   "execution_count": 42,
   "metadata": {
    "collapsed": false
   },
   "outputs": [],
   "source": [
    "plt.stem(h_pmf);\n",
    "\n"
   ]
  },
  {
   "cell_type": "markdown",
   "metadata": {},
   "source": [
    "Зобразіть графічно значення функції щільності гіпергеометричного розподілу з параметрами $M, n, N$ в точках вектора $x1$."
   ]
  },
  {
   "cell_type": "code",
   "execution_count": 43,
   "metadata": {
    "collapsed": true
   },
   "outputs": [],
   "source": [
    "x1 = np.arange(max(0, N-M+n), min(n, N)+1)"
   ]
  },
  {
   "cell_type": "code",
   "execution_count": 44,
   "metadata": {
    "collapsed": false
   },
   "outputs": [],
   "source": [
    "plt.stem(hypergeom.pmf(x1, M, n, N));\n"
   ]
  },
  {
   "cell_type": "markdown",
   "metadata": {},
   "source": [
    "### 2.2 Функція розподілу"
   ]
  },
  {
   "cell_type": "markdown",
   "metadata": {},
   "source": [
    "Виведіть значення функції розподілу гіпергеометричного розподілу з параметрами $M, n, N$ в точках вектора $x$."
   ]
  },
  {
   "cell_type": "code",
   "execution_count": 45,
   "metadata": {
    "collapsed": false
   },
   "outputs": [
    {
     "name": "stdout",
     "output_type": "stream",
     "text": [
      "[0.00000000e+00 1.03199174e-04 1.03199174e-04 4.43756450e-03\n 4.43756450e-03 5.21155831e-02 5.21155831e-02 2.50773994e-01\n 2.50773994e-01 6.08359133e-01 6.08359133e-01 8.94427245e-01\n 8.94427245e-01 9.89783282e-01 9.89783282e-01 1.00000000e+00\n 1.00000000e+00]\n"
     ]
    }
   ],
   "source": [
    "h_cdf = hypergeom.cdf(x, M, n, N)\n",
    "print(h_cdf)\n"
   ]
  },
  {
   "cell_type": "markdown",
   "metadata": {},
   "source": [
    "Зобразіть графічно значення функції розподілу гіпергеометричного розподілу з параметрами $M, n, N$ в точках вектора $x$."
   ]
  },
  {
   "cell_type": "code",
   "execution_count": 47,
   "metadata": {
    "collapsed": false
   },
   "outputs": [],
   "source": [
    "plt.plot(x, h_cdf ,drawstyle='steps-post')\n",
    "plt.show()\n"
   ]
  },
  {
   "cell_type": "markdown",
   "metadata": {},
   "source": [
    "### 2.3 Випадкові величини"
   ]
  },
  {
   "cell_type": "markdown",
   "metadata": {},
   "source": [
    "Згенеруйте $100$ випадкових величин з гіпергеометричного розподілу з параметрами $M, n, N$."
   ]
  },
  {
   "cell_type": "code",
   "execution_count": 48,
   "metadata": {
    "collapsed": false
   },
   "outputs": [
    {
     "name": "stdout",
     "output_type": "stream",
     "text": [
      "[3 4 3 4 4 6 4 3 4 3 4 4 4 1 4 3 5 3 5 5 4 5 3 6 6 5 5 3 5 4 2 4 4 5 3 3 6\n 3 3 4 3 4 5 3 5 6 4 4 5 5 5 2 5 3 4 3 4 3 5 4 4 2 2 3 3 5 4 5 5 5 3 2 3 3\n 5 4 4 4 4 5 4 5 3 3 4 3 6 5 4 4 4 5 4 5 5 4 4 3 5 2]\n"
     ]
    }
   ],
   "source": [
    "h_rvs = hypergeom.rvs(M, n, N, size=100)\n",
    "print(h_rvs)\n"
   ]
  },
  {
   "cell_type": "markdown",
   "metadata": {},
   "source": [
    "Виведіть кількість кожного елемента в отриманому випадковому векторі."
   ]
  },
  {
   "cell_type": "code",
   "execution_count": 49,
   "metadata": {
    "collapsed": false
   },
   "outputs": [
    {
     "name": "stdout",
     "output_type": "stream",
     "text": [
      "item = 1, count = 1\nitem = 2, count = 6\nitem = 3, count = 26\nitem = 4, count = 34\nitem = 5, count = 27\nitem = 6, count = 6\n"
     ]
    }
   ],
   "source": [
    "for item in set(h_rvs):\n",
    "    print(f'item = {item}, count = {list(h_rvs).count(item)}')\n"
   ]
  },
  {
   "cell_type": "markdown",
   "metadata": {},
   "source": [
    "Зобразіть графічно кількість кожного елемента в отриманому випадковому векторі."
   ]
  },
  {
   "cell_type": "code",
   "execution_count": 50,
   "metadata": {
    "collapsed": false,
    "scrolled": true
   },
   "outputs": [],
   "source": [
    "plt.hist(h_rvs)\n",
    "plt.show()\n"
   ]
  },
  {
   "cell_type": "markdown",
   "metadata": {},
   "source": [
    "## 3 Різні параметри"
   ]
  },
  {
   "cell_type": "markdown",
   "metadata": {},
   "source": [
    "### 3.1 Біноміальний розподіл"
   ]
  },
  {
   "cell_type": "markdown",
   "metadata": {},
   "source": [
    "Зобразіть графічно функцію щільності, функцію розподілу та гістограму $10000$ випадкових величин біноміального розподілу з параметрами:\n",
    "1. $n = 15, p = 0.8$\n",
    "2. $n = 15, p = 0.2$\n",
    "3. $n = 20, p = 0.4$\n",
    "4. $n = 20, p = 0.6$\n",
    "5. $n = 7, p = 0.5$\n",
    "6. $n = 25, p = 0.5$\n",
    "7. $n = 100, p = 0.5$"
   ]
  },
  {
   "cell_type": "code",
   "execution_count": 58,
   "metadata": {
    "collapsed": false
   },
   "outputs": [
    {
     "name": "stdout",
     "output_type": "stream",
     "text": [
      "n = 15, p = 0.8\n"
     ]
    },
    {
     "name": "stdout",
     "output_type": "stream",
     "text": [
      "n = 15, p = 0.2\n"
     ]
    },
    {
     "name": "stdout",
     "output_type": "stream",
     "text": [
      "n = 20, p = 0.4\n"
     ]
    },
    {
     "name": "stdout",
     "output_type": "stream",
     "text": [
      "n = 20, p = 0.6\n"
     ]
    },
    {
     "name": "stdout",
     "output_type": "stream",
     "text": [
      "n = 7, p = 0.5\n"
     ]
    }
   ],
   "source": [
    "from scipy.stats import binom\n",
    "import matplotlib.pyplot as plt\n",
    "import numpy as np\n",
    "\n",
    "\n",
    "n = (15, 15, 20, 20, 7, 25, 100)\n",
    "p = (0.8, 0.2, 0.4, 0.6, 0.5, 0.5, 0.5)\n",
    "\n",
    "x = np.arange(0, 35, 0.5)\n",
    "\n",
    "size = 100\n",
    "\n",
    "for i in range(7):\n",
    "    print(f'n = {n[i]}, p = {p[i]}')\n",
    "\n",
    "    b_rvs = binom.rvs(n[i], p[i], size=size)\n",
    "    \n",
    "    plt.figure(figsize=(20, 5))\n",
    "    \n",
    "    plt.subplot(1, 3, 1, title='плотность')\n",
    "    plt.stem(binom.pmf(x, n[i], p[i]))\n",
    "    \n",
    "    plt.subplot(1, 3, 2, title='распределение')\n",
    "    plt.stem(binom.cdf(x, n[i], p[i]))\n",
    "    \n",
    "    plt.subplot(1, 3, 3, title='гистограмма')\n",
    "    plt.hist(b_rvs)\n",
    "    \n",
    "    plt.show()\n"
   ]
  },
  {
   "cell_type": "markdown",
   "metadata": {},
   "source": [
    "### 3.2 Геометричний розподіл"
   ]
  },
  {
   "cell_type": "markdown",
   "metadata": {},
   "source": [
    "Зобразіть графічно функцію щільності, функцію розподілу та гістограму $10000$ випадкових величин геометричного розподілу з параметрами:\n",
    "1. $p = 0.1$\n",
    "2. $p = 0.2$\n",
    "3. $p = 0.3$\n",
    "4. $p = 0.4$\n",
    "5. $p = 0.5$\n",
    "6. $p = 0.6$\n",
    "7. $p = 0.7$\n",
    "8. $p = 0.8$\n",
    "9. $p = 0.9$"
   ]
  },
  {
   "cell_type": "code",
   "execution_count": null,
   "metadata": {
    "collapsed": true
   },
   "outputs": [],
   "source": [
    "from scipy.stats import geom\n",
    "\n",
    "p = [i/10 for i in range(1, 10)]\n",
    "\n",
    "size = 100\n",
    "\n",
    "for i in p:\n",
    "    print(f'p = {i}')\n",
    "\n",
    "    g_rvs = geom.rvs(i, size=size)\n",
    "    \n",
    "    plt.figure(figsize=(20, 5))\n",
    "    \n",
    "    plt.subplot(1, 3, 1, title='плотность')\n",
    "    plt.stem(geom.pmf(x, i))\n",
    "    \n",
    "    \n",
    "    plt.subplot(1, 3, 2, title='распределение')\n",
    "    plt.stem(geom.cdf(x, i))\n",
    "    \n",
    "    plt.subplot(1, 3, 3, title='гистограмма')\n",
    "    plt.hist(g_rvs)\n",
    "    \n",
    "    plt.show()\n"
   ]
  },
  {
   "cell_type": "markdown",
   "metadata": {},
   "source": [
    "### 3.3 Розподіл Пуассона"
   ]
  },
  {
   "cell_type": "markdown",
   "metadata": {},
   "source": [
    "Зобразіть графічно функцію щільності, функцію розподілу та гістограму $10000$ випадкових величин розподілу Пуассона з параметрами:\n",
    "1. $\\mu = 0.1$\n",
    "2. $\\mu = 0.2$\n",
    "3. $\\mu = 0.3$\n",
    "4. $\\mu = 0.4$\n",
    "5. $\\mu = 0.5$\n",
    "6. $\\mu = 0.6$\n",
    "7. $\\mu = 0.7$\n",
    "8. $\\mu = 0.8$\n",
    "9. $\\mu = 0.9$"
   ]
  },
  {
   "cell_type": "code",
   "execution_count": 28,
   "metadata": {
    "collapsed": true
   },
   "outputs": [],
   "source": [
    "from scipy.stats import poisson\n",
    "\n",
    "mu = [i/10 for i in range(1, 10)]\n",
    "\n",
    "size = 100\n",
    "\n",
    "for i in mu:\n",
    "    print(f'mu = {i}')\n",
    "    \n",
    "    plt.figure(figsize=(20, 5))\n",
    "\n",
    "    p_rvs = poisson.rvs(i, size=size)\n",
    "    \n",
    "    plt.subplot(1, 3, 1, title='плотность')\n",
    "    plt.stem(poisson.pmf(x, i))\n",
    "    \n",
    "    plt.subplot(1, 3, 2, title='распределение')\n",
    "    plt.stem(poisson.cdf(x, i))\n",
    "    \n",
    "    plt.subplot(1, 3, 3, title='гистограмма')\n",
    "    plt.hist(p_rvs)\n",
    "    \n",
    "    plt.show()\n"
   ]
  },
  {
   "cell_type": "markdown",
   "metadata": {},
   "source": [
    "### 3.4 Від'ємний біноміальний розподіл"
   ]
  },
  {
   "cell_type": "markdown",
   "metadata": {},
   "source": [
    "Зобразіть графічно функцію щільності, функцію розподілу та гістограму $10000$ випадкових величин від'ємного біноміального розподілу з параметрами:\n",
    "1. $n = 15, p = 0.8$\n",
    "2. $n = 15, p = 0.2$\n",
    "3. $n = 20, p = 0.4$\n",
    "4. $n = 20, p = 0.6$\n",
    "5. $n = 7, p = 0.5$\n",
    "6. $n = 25, p = 0.5$\n",
    "7. $n = 100, p = 0.5$"
   ]
  },
  {
   "cell_type": "code",
   "execution_count": 29,
   "metadata": {
    "collapsed": true
   },
   "outputs": [],
   "source": [
    "from scipy.stats import nbinom\n",
    "\n",
    "\n",
    "n = (15, 15, 20, 20, 7, 25, 100)\n",
    "p = (0.8, 0.2, 0.4, 0.6, 0.5, 0.5, 0.5)\n",
    "\n",
    "size = 100\n",
    "\n",
    "for i in range(7):\n",
    "    print(f'n = {n[i]}, p = {p[i]}')\n",
    "    \n",
    "    plt.figure(figsize=(20, 5))\n",
    "\n",
    "    nb_rvs = nbinom.rvs(n[i], p[i], size=size)\n",
    "    \n",
    "    plt.subplot(1, 3, 1, title='плотность')\n",
    "    plt.stem(nbinom.pmf(x, n[i], p[i]))\n",
    "    \n",
    "    plt.subplot(1, 3, 2, title='распределение')\n",
    "    plt.stem(nbinom.cdf(x, n[i], p[i]))\n",
    "    \n",
    "    plt.subplot(1, 3, 3, title='гистограмма')\n",
    "    plt.hist(nb_rvs)\n",
    "    \n",
    "    plt.show()\n"
   ]
  },
  {
   "cell_type": "markdown",
   "metadata": {},
   "source": [
    "### 3.5 Гіпергеометричний розподіл"
   ]
  },
  {
   "cell_type": "markdown",
   "metadata": {},
   "source": [
    "Зобразіть графічно функцію щільності, функцію розподілу та гістограму $10000$ випадкових величин гіпергеометричного розподілу з параметрами:\n",
    "1. $M = 10, n = 3, N = 7$\n",
    "2. $M = 50, n = 10, N = 5$\n",
    "3. $M = 50, n = 10, N = 10$\n",
    "4. $M = 50, n = 10, N = 20$\n",
    "5. $M = 50, n = 10, N = 30$\n",
    "6. $M = 50, n = 10, N = 40$\n",
    "7. $M = 50, n = 10, N = 50$\n",
    "8. $M = 50, n = 5, N = 25$\n",
    "9. $M = 50, n = 15, N = 25$\n",
    "10. $M = 50, n = 25, N = 25$\n",
    "11. $M = 50, n = 35, N = 25$\n",
    "12. $M = 50, n = 45, N = 25$"
   ]
  },
  {
   "cell_type": "code",
   "execution_count": 30,
   "metadata": {
    "collapsed": true
   },
   "outputs": [],
   "source": [
    "from scipy.stats import hypergeom\n",
    "\n",
    "\n",
    "M = (10, 50, 50, 50, 50, 50, 50, 50, 50, 50, 50, 50)\n",
    "n = (3, 10, 10, 10, 10, 10, 10, 5, 15, 25, 35, 45)\n",
    "N = (7, 5, 10, 20, 30, 40, 50, 25, 25, 25, 25, 25)\n",
    "\n",
    "size = 100\n",
    "\n",
    "for i in range(12):\n",
    "    print(f'M = {M[i]}, n = {n[i]}, N = {N[i]}')\n",
    "    \n",
    "    plt.figure(figsize=(20, 5))\n",
    "    \n",
    "    h_rvs = hypergeom.rvs(M[i], n[i], N[i], size=size)\n",
    "    \n",
    "    plt.subplot(1, 3, 1, title='плотность')\n",
    "    plt.stem(hypergeom.pmf(h_rvs, M[i], n[i], N[i]))\n",
    "    \n",
    "\n",
    "    plt.subplot(1, 3, 2, title='распределение')\n",
    "    plt.stem(hypergeom.cdf(h_rvs, M[i], n[i], N[i]))\n",
    "    \n",
    "    plt.subplot(1, 3, 3, title='гистограмма')\n",
    "    plt.hist(h_rvs)\n",
    "    \n",
    "    \n",
    "    plt.show()\n"
   ]
  },
  {
   "cell_type": "markdown",
   "metadata": {
    "collapsed": true
   },
   "source": [
    "## 4 Апроксимація біноміального розподілу розподілом Пуассона"
   ]
  },
  {
   "cell_type": "markdown",
   "metadata": {},
   "source": [
    "Покажіть схожість біноміального розподілу та розподілу Пуассона (їх функцій щільності) з відповідними параметрами.\n",
    "Наприклад:\n",
    "- $n = 100, p = 0.05$\n",
    "- $n = 100, p = 0.1$\n",
    "- $n = 100, p = 0.15$\n",
    "- $n = 100, p = 0.2$\n",
    "- $n = 100, p = 0.35$\n",
    "- $n = 100, p = 0.5$\n",
    "- $n = 100, p = 0.75$"
   ]
  },
  {
   "cell_type": "code",
   "execution_count": null,
   "metadata": {
    "collapsed": false
   },
   "outputs": [
    {
     "ename": "NameError",
     "evalue": "name 'np' is not defined",
     "traceback": [
      "\u001b[0;31m---------------------------------------------------------------------------\u001b[0m",
      "\u001b[0;31mNameError\u001b[0m                                 Traceback (most recent call last)",
      "\u001b[0;32m<ipython-input-1-63f7b5e83a6b>\u001b[0m in \u001b[0;36m<module>\u001b[0;34m()\u001b[0m\n\u001b[1;32m      3\u001b[0m \u001b[0;34m\u001b[0m\u001b[0m\n\u001b[1;32m      4\u001b[0m \u001b[0;34m\u001b[0m\u001b[0m\n\u001b[0;32m----> 5\u001b[0;31m \u001b[0mx\u001b[0m \u001b[0;34m=\u001b[0m \u001b[0mnp\u001b[0m\u001b[0;34m.\u001b[0m\u001b[0marange\u001b[0m\u001b[0;34m(\u001b[0m\u001b[0;36m0\u001b[0m\u001b[0;34m,\u001b[0m \u001b[0;36m100\u001b[0m\u001b[0;34m,\u001b[0m \u001b[0;36m0.5\u001b[0m\u001b[0;34m)\u001b[0m\u001b[0;34m\u001b[0m\u001b[0m\n\u001b[0m\u001b[1;32m      6\u001b[0m \u001b[0;34m\u001b[0m\u001b[0m\n\u001b[1;32m      7\u001b[0m \u001b[0msize\u001b[0m \u001b[0;34m=\u001b[0m \u001b[0;36m100\u001b[0m\u001b[0;34m\u001b[0m\u001b[0m\n",
      "\u001b[0;31mNameError\u001b[0m: name 'np' is not defined"
     ],
     "output_type": "error"
    }
   ],
   "source": [
    "n = 100\n",
    "p = (0.05, 0.1, 0.15, 0.2, 0.35, 0.5, 0.75)\n",
    "\n",
    "\n",
    "x = np.arange(0, 100, 0.5)\n",
    "\n",
    "size = 100\n",
    "\n",
    "\n",
    "for i in range(len(p)):\n",
    "        \n",
    "    print(f'n = {n}, p = {p[i]}')\n",
    "    \n",
    "    plt.figure(figsize=(20, 5))\n",
    "    \n",
    "    plt.subplot(1, 2, 1, title='binom')\n",
    "    plt.stem(binom.pmf(x, n=n, p=p[i]))\n",
    "    \n",
    "    plt.subplot(1, 2, 2, title='poisson')\n",
    "    plt.stem(poisson.pmf(x, mu=p[i]))\n",
    "    plt.show()\n"
   ]
  },
  {
   "cell_type": "code",
   "execution_count": null,
   "metadata": {},
   "outputs": [],
   "source": []
  }
 ],
 "metadata": {
  "kernelspec": {
   "display_name": "Python 3",
   "language": "python",
   "name": "python3"
  },
  "language_info": {
   "codemirror_mode": {
    "name": "ipython",
    "version": 3
   },
   "file_extension": ".py",
   "mimetype": "text/x-python",
   "name": "python",
   "nbconvert_exporter": "python",
   "pygments_lexer": "ipython3",
   "version": "3.6.1"
  }
 },
 "nbformat": 4,
 "nbformat_minor": 0
}
